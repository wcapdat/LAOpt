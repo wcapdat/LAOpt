{
 "cells": [
  {
   "cell_type": "markdown",
   "metadata": {},
   "source": [
    "This JNB analyzes 6 Standardized Hardship Indicators for 77 Chicago Community Areas.\n",
    "\n",
    "The indicators are abbreviated as follows:\n",
    "\n",
    "<ul>\n",
    "    <li> UNEMP = % of community age 16 and older who are unemployed. </li>\n",
    "     <li> NOHS = % of community age 25 and older without a high school diploma. </li>\n",
    "         <li> DEP = % of community who are dependent (under age 18 or over age 64). </li>\n",
    "             <li> HOUS= % of community with overcrowded housing (more than 1 occupant per room).</li>\n",
    "                 <li> POV = % below federal poverty line\n",
    "    <li> INC = per capita income.</li>\n",
    "             \n",
    "Source: https://greatcities.uic.edu/wp-content/uploads/2016/07/GCI-Hardship-Index-Fact-SheetV2.pdf (2010-2014) https://greatcities.uic.edu/wp-content/uploads/2019/12/Hardship-Index-Fact-Sheet-2017-ACS-Final-1.pdf (2013-2017).\n",
    " \n",
    "\n",
    "Dataset:  standardizedindictors.xlsx  (standardized indicator values for the years 2010-2014 and 2013-2017)"
   ]
  },
  {
   "cell_type": "markdown",
   "metadata": {},
   "source": [
    "1) import the usual libraries"
   ]
  },
  {
   "cell_type": "code",
   "execution_count": 1,
   "metadata": {},
   "outputs": [],
   "source": [
    "import numpy as np  \n",
    "import pandas as pd \n",
    "import matplotlib.pyplot as plt # plotting library"
   ]
  },
  {
   "cell_type": "markdown",
   "metadata": {},
   "source": [
    "2) Import library for KMeans clustering"
   ]
  },
  {
   "cell_type": "code",
   "execution_count": 2,
   "metadata": {},
   "outputs": [],
   "source": [
    "import sklearn\n",
    "from sklearn.cluster import KMeans "
   ]
  },
  {
   "cell_type": "markdown",
   "metadata": {},
   "source": [
    "3) Read hardship index data."
   ]
  },
  {
   "cell_type": "code",
   "execution_count": 3,
   "metadata": {},
   "outputs": [
    {
     "data": {
      "text/html": [
       "<div>\n",
       "<style scoped>\n",
       "    .dataframe tbody tr th:only-of-type {\n",
       "        vertical-align: middle;\n",
       "    }\n",
       "\n",
       "    .dataframe tbody tr th {\n",
       "        vertical-align: top;\n",
       "    }\n",
       "\n",
       "    .dataframe thead th {\n",
       "        text-align: right;\n",
       "    }\n",
       "</style>\n",
       "<table border=\"1\" class=\"dataframe\">\n",
       "  <thead>\n",
       "    <tr style=\"text-align: right;\">\n",
       "      <th></th>\n",
       "      <th>Community</th>\n",
       "      <th>index</th>\n",
       "      <th>HI14</th>\n",
       "      <th>UNEMP14</th>\n",
       "      <th>NOHS14</th>\n",
       "      <th>DEP14</th>\n",
       "      <th>HOUS14</th>\n",
       "      <th>POV14</th>\n",
       "      <th>INC14</th>\n",
       "      <th>HI17</th>\n",
       "      <th>UNEMP17</th>\n",
       "      <th>NOHS17</th>\n",
       "      <th>DEP17</th>\n",
       "      <th>HOUS17</th>\n",
       "      <th>POV17</th>\n",
       "      <th>INC17</th>\n",
       "      <th>HOM14</th>\n",
       "      <th>HOM17</th>\n",
       "      <th>LAT</th>\n",
       "      <th>LON</th>\n",
       "    </tr>\n",
       "  </thead>\n",
       "  <tbody>\n",
       "    <tr>\n",
       "      <th>0</th>\n",
       "      <td>Albany Park</td>\n",
       "      <td>13</td>\n",
       "      <td>47.0</td>\n",
       "      <td>-0.705481</td>\n",
       "      <td>0.667993</td>\n",
       "      <td>-0.470891</td>\n",
       "      <td>1.42992</td>\n",
       "      <td>-0.353466</td>\n",
       "      <td>-0.165118</td>\n",
       "      <td>45.7</td>\n",
       "      <td>-0.706842</td>\n",
       "      <td>0.506067</td>\n",
       "      <td>-0.530539</td>\n",
       "      <td>1.562581</td>\n",
       "      <td>-0.418499</td>\n",
       "      <td>-0.183089</td>\n",
       "      <td>2</td>\n",
       "      <td>1</td>\n",
       "      <td>41.96823</td>\n",
       "      <td>-87.72421</td>\n",
       "    </tr>\n",
       "    <tr>\n",
       "      <th>1</th>\n",
       "      <td>Archer Heights</td>\n",
       "      <td>56</td>\n",
       "      <td>54.4</td>\n",
       "      <td>-0.193683</td>\n",
       "      <td>1.136956</td>\n",
       "      <td>0.471085</td>\n",
       "      <td>1.51857</td>\n",
       "      <td>-0.672245</td>\n",
       "      <td>-0.605100</td>\n",
       "      <td>56.1</td>\n",
       "      <td>-0.442634</td>\n",
       "      <td>1.090575</td>\n",
       "      <td>0.742190</td>\n",
       "      <td>1.945762</td>\n",
       "      <td>-0.473646</td>\n",
       "      <td>-0.607925</td>\n",
       "      <td>0</td>\n",
       "      <td>3</td>\n",
       "      <td>41.81093</td>\n",
       "      <td>-87.72677</td>\n",
       "    </tr>\n",
       "  </tbody>\n",
       "</table>\n",
       "</div>"
      ],
      "text/plain": [
       "        Community  index  HI14   UNEMP14    NOHS14     DEP14   HOUS14  \\\n",
       "0     Albany Park     13  47.0 -0.705481  0.667993 -0.470891  1.42992   \n",
       "1  Archer Heights     56  54.4 -0.193683  1.136956  0.471085  1.51857   \n",
       "\n",
       "      POV14     INC14  HI17   UNEMP17    NOHS17     DEP17    HOUS17     POV17  \\\n",
       "0 -0.353466 -0.165118  45.7 -0.706842  0.506067 -0.530539  1.562581 -0.418499   \n",
       "1 -0.672245 -0.605100  56.1 -0.442634  1.090575  0.742190  1.945762 -0.473646   \n",
       "\n",
       "      INC17  HOM14  HOM17       LAT       LON  \n",
       "0 -0.183089      2      1  41.96823 -87.72421  \n",
       "1 -0.607925      0      3  41.81093 -87.72677  "
      ]
     },
     "execution_count": 3,
     "metadata": {},
     "output_type": "execute_result"
    }
   ],
   "source": [
    "hom_df = pd.read_excel('standardizedindicators.xlsx')\n",
    "hom_df.head(2)"
   ]
  },
  {
   "cell_type": "markdown",
   "metadata": {},
   "source": [
    "4) Create dataframe with the 2017 indicator values."
   ]
  },
  {
   "cell_type": "code",
   "execution_count": 4,
   "metadata": {},
   "outputs": [
    {
     "data": {
      "text/html": [
       "<div>\n",
       "<style scoped>\n",
       "    .dataframe tbody tr th:only-of-type {\n",
       "        vertical-align: middle;\n",
       "    }\n",
       "\n",
       "    .dataframe tbody tr th {\n",
       "        vertical-align: top;\n",
       "    }\n",
       "\n",
       "    .dataframe thead th {\n",
       "        text-align: right;\n",
       "    }\n",
       "</style>\n",
       "<table border=\"1\" class=\"dataframe\">\n",
       "  <thead>\n",
       "    <tr style=\"text-align: right;\">\n",
       "      <th></th>\n",
       "      <th>UNEMP17</th>\n",
       "      <th>NOHS17</th>\n",
       "      <th>DEP17</th>\n",
       "      <th>HOUS17</th>\n",
       "      <th>POV17</th>\n",
       "      <th>INC17</th>\n",
       "    </tr>\n",
       "  </thead>\n",
       "  <tbody>\n",
       "    <tr>\n",
       "      <th>0</th>\n",
       "      <td>-0.706842</td>\n",
       "      <td>0.506067</td>\n",
       "      <td>-0.530539</td>\n",
       "      <td>1.562581</td>\n",
       "      <td>-0.418499</td>\n",
       "      <td>-0.183089</td>\n",
       "    </tr>\n",
       "    <tr>\n",
       "      <th>1</th>\n",
       "      <td>-0.442634</td>\n",
       "      <td>1.090575</td>\n",
       "      <td>0.742190</td>\n",
       "      <td>1.945762</td>\n",
       "      <td>-0.473646</td>\n",
       "      <td>-0.607925</td>\n",
       "    </tr>\n",
       "  </tbody>\n",
       "</table>\n",
       "</div>"
      ],
      "text/plain": [
       "    UNEMP17    NOHS17     DEP17    HOUS17     POV17     INC17\n",
       "0 -0.706842  0.506067 -0.530539  1.562581 -0.418499 -0.183089\n",
       "1 -0.442634  1.090575  0.742190  1.945762 -0.473646 -0.607925"
      ]
     },
     "execution_count": 4,
     "metadata": {},
     "output_type": "execute_result"
    }
   ],
   "source": [
    "HI17=hom_df[[\"UNEMP17\",\"NOHS17\",\"DEP17\",\"HOUS17\",\"POV17\",\"INC17\"]]\n",
    "HI17.head(2)"
   ]
  },
  {
   "cell_type": "markdown",
   "metadata": {},
   "source": [
    "5) Create a dataframe with just the unemployment and income data."
   ]
  },
  {
   "cell_type": "code",
   "execution_count": 5,
   "metadata": {},
   "outputs": [
    {
     "data": {
      "text/html": [
       "<div>\n",
       "<style scoped>\n",
       "    .dataframe tbody tr th:only-of-type {\n",
       "        vertical-align: middle;\n",
       "    }\n",
       "\n",
       "    .dataframe tbody tr th {\n",
       "        vertical-align: top;\n",
       "    }\n",
       "\n",
       "    .dataframe thead th {\n",
       "        text-align: right;\n",
       "    }\n",
       "</style>\n",
       "<table border=\"1\" class=\"dataframe\">\n",
       "  <thead>\n",
       "    <tr style=\"text-align: right;\">\n",
       "      <th></th>\n",
       "      <th>UNEMP17</th>\n",
       "      <th>INC17</th>\n",
       "    </tr>\n",
       "  </thead>\n",
       "  <tbody>\n",
       "    <tr>\n",
       "      <th>0</th>\n",
       "      <td>-0.706842</td>\n",
       "      <td>-0.183089</td>\n",
       "    </tr>\n",
       "    <tr>\n",
       "      <th>1</th>\n",
       "      <td>-0.442634</td>\n",
       "      <td>-0.607925</td>\n",
       "    </tr>\n",
       "  </tbody>\n",
       "</table>\n",
       "</div>"
      ],
      "text/plain": [
       "    UNEMP17     INC17\n",
       "0 -0.706842 -0.183089\n",
       "1 -0.442634 -0.607925"
      ]
     },
     "execution_count": 5,
     "metadata": {},
     "output_type": "execute_result"
    }
   ],
   "source": [
    "EMPINC=HI17[[\"UNEMP17\",\"INC17\"]]\n",
    "EMPINC.head(2)"
   ]
  },
  {
   "cell_type": "markdown",
   "metadata": {},
   "source": [
    "5) Check that the 6 dimensional data points have been projected onto a 1 dimensional line."
   ]
  },
  {
   "cell_type": "code",
   "execution_count": 6,
   "metadata": {},
   "outputs": [
    {
     "name": "stdout",
     "output_type": "stream",
     "text": [
      "(77, 6)\n",
      "(77, 1)\n"
     ]
    }
   ],
   "source": [
    "from sklearn.decomposition import PCA\n",
    "pca = PCA(n_components=1)\n",
    "projected = pca.fit_transform(EMPINC)\n",
    "print(HI17.shape)\n",
    "print(projected.shape)"
   ]
  },
  {
   "cell_type": "markdown",
   "metadata": {},
   "source": [
    "6) Get the values on the projected line."
   ]
  },
  {
   "cell_type": "code",
   "execution_count": 7,
   "metadata": {},
   "outputs": [
    {
     "name": "stdout",
     "output_type": "stream",
     "text": [
      "[[-0.70710678  0.70710678]]\n"
     ]
    },
    {
     "data": {
      "text/plain": [
       "array([0.3703489])"
      ]
     },
     "execution_count": 7,
     "metadata": {},
     "output_type": "execute_result"
    }
   ],
   "source": [
    "print(pca.components_) #unit vector specifying direction of the principal component line\n",
    "projected[0]"
   ]
  },
  {
   "cell_type": "code",
   "execution_count": 8,
   "metadata": {},
   "outputs": [
    {
     "name": "stdout",
     "output_type": "stream",
     "text": [
      "[1.66614794]\n"
     ]
    }
   ],
   "source": [
    "print(pca.explained_variance_)"
   ]
  },
  {
   "cell_type": "code",
   "execution_count": 9,
   "metadata": {},
   "outputs": [
    {
     "data": {
      "text/plain": [
       "1.6445096544427147"
      ]
     },
     "execution_count": 9,
     "metadata": {},
     "output_type": "execute_result"
    }
   ],
   "source": [
    "projected.var()"
   ]
  },
  {
   "cell_type": "markdown",
   "metadata": {},
   "source": [
    "7) Plot the points (UNEMP17,INC17) and the projection of these points onto the line y= -x."
   ]
  },
  {
   "cell_type": "code",
   "execution_count": 10,
   "metadata": {},
   "outputs": [
    {
     "data": {
      "image/png": "[encoded data removed]",
      "text/plain": [
       "<matplotlib.figure.Figure at 0x13a997ee1d0>"
      ]
     },
     "metadata": {
      "needs_background": "light"
     },
     "output_type": "display_data"
    }
   ],
   "source": [
    "fig=plt.figure(figsize=(10,13))\n",
    "plt.scatter(-projected[:, 0]/np.sqrt(2), projected[:, 0]/np.sqrt(2), s=150)\n",
    "for i in EMPINC.index:\n",
    "    plt.text(EMPINC.loc[i,\"UNEMP17\"],EMPINC.loc[i,\"INC17\"],str(i+1),size=20,va='center',ha='center')\n",
    "plt.xlim(-3, 3) \n",
    "plt.ylim(-4, 4)\n",
    "plt.xlabel('Unemployment 2017',size=40)\n",
    "plt.ylabel('Income 2017',size=40)\n",
    "plt.xticks(fontsize=30)\n",
    "plt.yticks(fontsize=30)\n",
    "plt.savefig(\"empinc.png\")"
   ]
  },
  {
   "cell_type": "code",
   "execution_count": 11,
   "metadata": {},
   "outputs": [
    {
     "name": "stdout",
     "output_type": "stream",
     "text": [
      "Variance of Unemployment 1.0131578947368423\n",
      "Variance of Income 1.013157894736842\n",
      "Variance of Projection 1.6661479393695926\n"
     ]
    }
   ],
   "source": [
    "import statistics as stat\n",
    "print(\"Variance of Unemployment\", stat.variance(EMPINC[\"UNEMP17\"]))\n",
    "print(\"Variance of Income\", stat.variance(EMPINC[\"INC17\"]))\n",
    "print(\"Variance of Projection\",stat.variance(projected[:, 0]))"
   ]
  },
  {
   "cell_type": "markdown",
   "metadata": {},
   "source": [
    "<h4>EXERCISE</h4>\n",
    "Repeat the above analysis using \"NOHS17\" and \"POV17\"."
   ]
  }
 ],
 "metadata": {
  "kernelspec": {
   "display_name": "Python 3",
   "language": "python",
   "name": "python3"
  },
  "language_info": {
   "codemirror_mode": {
    "name": "ipython",
    "version": 3
   },
   "file_extension": ".py",
   "mimetype": "text/x-python",
   "name": "python",
   "nbconvert_exporter": "python",
   "pygments_lexer": "ipython3",
   "version": "3.6.4"
  }
 },
 "nbformat": 4,
 "nbformat_minor": 2
}
