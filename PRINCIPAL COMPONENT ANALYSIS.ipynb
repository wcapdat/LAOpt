{
 "cells": [
  {
   "cell_type": "markdown",
   "metadata": {},
   "source": [
    "\n",
    "\n",
    "Dataset:  \n",
    "\n",
    "standardizedindictors.xlsx  (standardized indicator values for the years 2010-2014 and 2013-2017)"
   ]
  },
  {
   "cell_type": "code",
   "execution_count": null,
   "metadata": {},
   "outputs": [],
   "source": []
  },
  {
   "cell_type": "code",
   "execution_count": 1,
   "metadata": {},
   "outputs": [],
   "source": [
    "#import libararies\n",
    "import pandas as pd\n",
    "import numpy as np\n",
    "import matplotlib as mpl\n",
    "import matplotlib.pyplot as plt\n",
    "from matplotlib.patches import Rectangle\n",
    "import math\n",
    "from numpy.linalg import eig\n",
    "import seaborn as sns\n",
    "from sklearn.preprocessing import StandardScaler\n",
    "from sklearn.decomposition import PCA"
   ]
  },
  {
   "cell_type": "markdown",
   "metadata": {},
   "source": [
    "<h3> Intro </h3>"
   ]
  },
  {
   "cell_type": "markdown",
   "metadata": {},
   "source": [
    "Principal Component Analysis (PCA) is based on the idea that  dimensionality of data can be reduced by projecting onto a lower dimensional subspace which captures as much of the variance as possible.  To illustrate this idea, we will make a plot of standardized COVID-19 test rates vs. death rates by Chicago zip-code. We will  then observe for a subset of this data how projecting the data onto the y-axis (death rate) will be more informative than projecting the data onto the x-axis (tst rate) since the test rates are roughly equal."
   ]
  },
  {
   "cell_type": "markdown",
   "metadata": {},
   "source": [
    "1) Let's read in up to 100,000 rows of COVID data for Chicago from the Chicago Data Portal. We create a list called chipzip of the Chicago zip codes."
   ]
  },
  {
   "cell_type": "code",
   "execution_count": 2,
   "metadata": {},
   "outputs": [
    {
     "data": {
      "text/html": [
       "<div>\n",
       "<style scoped>\n",
       "    .dataframe tbody tr th:only-of-type {\n",
       "        vertical-align: middle;\n",
       "    }\n",
       "\n",
       "    .dataframe tbody tr th {\n",
       "        vertical-align: top;\n",
       "    }\n",
       "\n",
       "    .dataframe thead th {\n",
       "        text-align: right;\n",
       "    }\n",
       "</style>\n",
       "<table border=\"1\" class=\"dataframe\">\n",
       "  <thead>\n",
       "    <tr style=\"text-align: right;\">\n",
       "      <th></th>\n",
       "      <th>:@computed_region_43wa_7qmu</th>\n",
       "      <th>:@computed_region_6mkv_f3dw</th>\n",
       "      <th>:@computed_region_bdys_3d7i</th>\n",
       "      <th>:@computed_region_rpca_8um6</th>\n",
       "      <th>:@computed_region_vrxf_vc4k</th>\n",
       "      <th>case_rate_cumulative</th>\n",
       "      <th>case_rate_weekly</th>\n",
       "      <th>cases_cumulative</th>\n",
       "      <th>cases_weekly</th>\n",
       "      <th>death_rate_cumulative</th>\n",
       "      <th>...</th>\n",
       "      <th>row_id</th>\n",
       "      <th>test_rate_cumulative</th>\n",
       "      <th>test_rate_weekly</th>\n",
       "      <th>tests_cumulative</th>\n",
       "      <th>tests_weekly</th>\n",
       "      <th>week_end</th>\n",
       "      <th>week_number</th>\n",
       "      <th>week_start</th>\n",
       "      <th>zip_code</th>\n",
       "      <th>zip_code_location</th>\n",
       "    </tr>\n",
       "  </thead>\n",
       "  <tbody>\n",
       "    <tr>\n",
       "      <th>0</th>\n",
       "      <td>36.0</td>\n",
       "      <td>14311.0</td>\n",
       "      <td>367.0</td>\n",
       "      <td>34.0</td>\n",
       "      <td>38.0</td>\n",
       "      <td>NaN</td>\n",
       "      <td>NaN</td>\n",
       "      <td>NaN</td>\n",
       "      <td>NaN</td>\n",
       "      <td>0.0</td>\n",
       "      <td>...</td>\n",
       "      <td>60603-2020-10</td>\n",
       "      <td>0.0</td>\n",
       "      <td>0.0</td>\n",
       "      <td>0</td>\n",
       "      <td>0.0</td>\n",
       "      <td>2020-03-07T00:00:00.000</td>\n",
       "      <td>10</td>\n",
       "      <td>2020-03-01T00:00:00.000</td>\n",
       "      <td>60603</td>\n",
       "      <td>{'type': 'Point', 'coordinates': [-87.625473, ...</td>\n",
       "    </tr>\n",
       "    <tr>\n",
       "      <th>1</th>\n",
       "      <td>36.0</td>\n",
       "      <td>14311.0</td>\n",
       "      <td>367.0</td>\n",
       "      <td>34.0</td>\n",
       "      <td>38.0</td>\n",
       "      <td>NaN</td>\n",
       "      <td>NaN</td>\n",
       "      <td>NaN</td>\n",
       "      <td>NaN</td>\n",
       "      <td>0.0</td>\n",
       "      <td>...</td>\n",
       "      <td>60603-2020-11</td>\n",
       "      <td>0.0</td>\n",
       "      <td>0.0</td>\n",
       "      <td>0</td>\n",
       "      <td>0.0</td>\n",
       "      <td>2020-03-14T00:00:00.000</td>\n",
       "      <td>11</td>\n",
       "      <td>2020-03-08T00:00:00.000</td>\n",
       "      <td>60603</td>\n",
       "      <td>{'type': 'Point', 'coordinates': [-87.625473, ...</td>\n",
       "    </tr>\n",
       "  </tbody>\n",
       "</table>\n",
       "<p>2 rows × 26 columns</p>\n",
       "</div>"
      ],
      "text/plain": [
       "   :@computed_region_43wa_7qmu  :@computed_region_6mkv_f3dw  \\\n",
       "0                         36.0                      14311.0   \n",
       "1                         36.0                      14311.0   \n",
       "\n",
       "   :@computed_region_bdys_3d7i  :@computed_region_rpca_8um6  \\\n",
       "0                        367.0                         34.0   \n",
       "1                        367.0                         34.0   \n",
       "\n",
       "   :@computed_region_vrxf_vc4k  case_rate_cumulative  case_rate_weekly  \\\n",
       "0                         38.0                   NaN               NaN   \n",
       "1                         38.0                   NaN               NaN   \n",
       "\n",
       "   cases_cumulative  cases_weekly  death_rate_cumulative  \\\n",
       "0               NaN           NaN                    0.0   \n",
       "1               NaN           NaN                    0.0   \n",
       "\n",
       "                         ...                                 row_id  \\\n",
       "0                        ...                          60603-2020-10   \n",
       "1                        ...                          60603-2020-11   \n",
       "\n",
       "   test_rate_cumulative  test_rate_weekly  tests_cumulative  tests_weekly  \\\n",
       "0                   0.0               0.0                 0           0.0   \n",
       "1                   0.0               0.0                 0           0.0   \n",
       "\n",
       "                  week_end week_number               week_start  zip_code  \\\n",
       "0  2020-03-07T00:00:00.000          10  2020-03-01T00:00:00.000     60603   \n",
       "1  2020-03-14T00:00:00.000          11  2020-03-08T00:00:00.000     60603   \n",
       "\n",
       "                                   zip_code_location  \n",
       "0  {'type': 'Point', 'coordinates': [-87.625473, ...  \n",
       "1  {'type': 'Point', 'coordinates': [-87.625473, ...  \n",
       "\n",
       "[2 rows x 26 columns]"
      ]
     },
     "execution_count": 2,
     "metadata": {},
     "output_type": "execute_result"
    }
   ],
   "source": [
    "rawCOVID = pd.read_json('https://data.cityofchicago.org/resource/yhhz-zm2v.json?$limit=100000') #Import data directly from data portal\n",
    "rawCOVID.head(2)"
   ]
  },
  {
   "cell_type": "markdown",
   "metadata": {},
   "source": [
    "2) We'll list the 26 column names"
   ]
  },
  {
   "cell_type": "code",
   "execution_count": 3,
   "metadata": {},
   "outputs": [
    {
     "data": {
      "text/plain": [
       "[':@computed_region_43wa_7qmu',\n",
       " ':@computed_region_6mkv_f3dw',\n",
       " ':@computed_region_bdys_3d7i',\n",
       " ':@computed_region_rpca_8um6',\n",
       " ':@computed_region_vrxf_vc4k',\n",
       " 'case_rate_cumulative',\n",
       " 'case_rate_weekly',\n",
       " 'cases_cumulative',\n",
       " 'cases_weekly',\n",
       " 'death_rate_cumulative',\n",
       " 'death_rate_weekly',\n",
       " 'deaths_cumulative',\n",
       " 'deaths_weekly',\n",
       " 'percent_tested_positive_cumulative',\n",
       " 'percent_tested_positive_weekly',\n",
       " 'population',\n",
       " 'row_id',\n",
       " 'test_rate_cumulative',\n",
       " 'test_rate_weekly',\n",
       " 'tests_cumulative',\n",
       " 'tests_weekly',\n",
       " 'week_end',\n",
       " 'week_number',\n",
       " 'week_start',\n",
       " 'zip_code',\n",
       " 'zip_code_location']"
      ]
     },
     "execution_count": 3,
     "metadata": {},
     "output_type": "execute_result"
    }
   ],
   "source": [
    "list(rawCOVID.columns)"
   ]
  },
  {
   "cell_type": "markdown",
   "metadata": {},
   "source": [
    "3) Let's make a list of the zipcodes."
   ]
  },
  {
   "cell_type": "code",
   "execution_count": 4,
   "metadata": {},
   "outputs": [
    {
     "name": "stdout",
     "output_type": "stream",
     "text": [
      "Number of zipcodes= 60\n"
     ]
    },
    {
     "data": {
      "text/plain": [
       "Index(['60601', '60602', '60603', '60604', '60605', '60606', '60607', '60608',\n",
       "       '60609', '60610', '60611', '60612', '60613', '60614', '60615', '60616',\n",
       "       '60617', '60618', '60619', '60620', '60621', '60622', '60623', '60624',\n",
       "       '60625', '60626', '60628', '60629', '60630', '60631', '60632', '60633',\n",
       "       '60634', '60636', '60637', '60638', '60639', '60640', '60641', '60642',\n",
       "       '60643', '60644', '60645', '60646', '60647', '60649', '60651', '60652',\n",
       "       '60653', '60654', '60655', '60656', '60657', '60659', '60660', '60661',\n",
       "       '60666', '60707', '60827', 'Unknown'],\n",
       "      dtype='object')"
      ]
     },
     "execution_count": 4,
     "metadata": {},
     "output_type": "execute_result"
    }
   ],
   "source": [
    "zips=rawCOVID[\"zip_code\"].value_counts()\n",
    "ziplist=zips.sort_index()\n",
    "print(\"Number of zipcodes=\",len(ziplist))\n",
    "ziplist.index"
   ]
  },
  {
   "cell_type": "markdown",
   "metadata": {},
   "source": [
    "4) Let's streamline the data to just a few columns, drop rows with missing data,  simplify the column names, and then display the first 2 rows."
   ]
  },
  {
   "cell_type": "code",
   "execution_count": 5,
   "metadata": {},
   "outputs": [
    {
     "name": "stdout",
     "output_type": "stream",
     "text": [
      "Number of row and columns= (8640, 4)\n"
     ]
    },
    {
     "data": {
      "text/html": [
       "<div>\n",
       "<style scoped>\n",
       "    .dataframe tbody tr th:only-of-type {\n",
       "        vertical-align: middle;\n",
       "    }\n",
       "\n",
       "    .dataframe tbody tr th {\n",
       "        vertical-align: top;\n",
       "    }\n",
       "\n",
       "    .dataframe thead th {\n",
       "        text-align: right;\n",
       "    }\n",
       "</style>\n",
       "<table border=\"1\" class=\"dataframe\">\n",
       "  <thead>\n",
       "    <tr style=\"text-align: right;\">\n",
       "      <th></th>\n",
       "      <th>deaths</th>\n",
       "      <th>population</th>\n",
       "      <th>tests</th>\n",
       "      <th>zip</th>\n",
       "    </tr>\n",
       "  </thead>\n",
       "  <tbody>\n",
       "    <tr>\n",
       "      <th>0</th>\n",
       "      <td>0</td>\n",
       "      <td>1174</td>\n",
       "      <td>0</td>\n",
       "      <td>60603</td>\n",
       "    </tr>\n",
       "    <tr>\n",
       "      <th>1</th>\n",
       "      <td>0</td>\n",
       "      <td>1174</td>\n",
       "      <td>0</td>\n",
       "      <td>60603</td>\n",
       "    </tr>\n",
       "  </tbody>\n",
       "</table>\n",
       "</div>"
      ],
      "text/plain": [
       "   deaths  population  tests    zip\n",
       "0       0        1174      0  60603\n",
       "1       0        1174      0  60603"
      ]
     },
     "execution_count": 5,
     "metadata": {},
     "output_type": "execute_result"
    }
   ],
   "source": [
    "COVID=rawCOVID[['deaths_cumulative', \"population\",  'tests_cumulative','zip_code']]\n",
    "COVID.columns=[\"deaths\",\"population\",\"tests\",\"zip\"] #simplify the column names\n",
    "COVID=COVID.dropna()\n",
    "print(\"Number of row and columns=\",COVID.shape)\n",
    "COVID.head(2)"
   ]
  },
  {
   "cell_type": "code",
   "execution_count": 6,
   "metadata": {},
   "outputs": [
    {
     "data": {
      "text/plain": [
       "'60601'"
      ]
     },
     "execution_count": 6,
     "metadata": {},
     "output_type": "execute_result"
    }
   ],
   "source": [
    "ziplist.index[0]"
   ]
  },
  {
   "cell_type": "markdown",
   "metadata": {},
   "source": [
    "5) Let's create a dataframe called data which contains for each zip code: (i) the population; (ii) the test rate (number of tests per person); and (iii) the death rate (number of deaths per 100,000 people)."
   ]
  },
  {
   "cell_type": "code",
   "execution_count": 7,
   "metadata": {},
   "outputs": [
    {
     "name": "stderr",
     "output_type": "stream",
     "text": [
      "C:\\Users\\pisihara\\AppData\\Local\\Continuum\\anaconda3\\lib\\site-packages\\ipykernel_launcher.py:9: RuntimeWarning: invalid value encountered in longlong_scalars\n",
      "  if __name__ == '__main__':\n",
      "C:\\Users\\pisihara\\AppData\\Local\\Continuum\\anaconda3\\lib\\site-packages\\ipykernel_launcher.py:10: RuntimeWarning: invalid value encountered in longlong_scalars\n",
      "  # Remove the CWD from sys.path while we load stuff.\n"
     ]
    },
    {
     "data": {
      "text/html": [
       "<div>\n",
       "<style scoped>\n",
       "    .dataframe tbody tr th:only-of-type {\n",
       "        vertical-align: middle;\n",
       "    }\n",
       "\n",
       "    .dataframe tbody tr th {\n",
       "        vertical-align: top;\n",
       "    }\n",
       "\n",
       "    .dataframe thead th {\n",
       "        text-align: right;\n",
       "    }\n",
       "</style>\n",
       "<table border=\"1\" class=\"dataframe\">\n",
       "  <thead>\n",
       "    <tr style=\"text-align: right;\">\n",
       "      <th></th>\n",
       "      <th>zip</th>\n",
       "      <th>test rate</th>\n",
       "      <th>death rate</th>\n",
       "    </tr>\n",
       "  </thead>\n",
       "  <tbody>\n",
       "    <tr>\n",
       "      <th>0</th>\n",
       "      <td>60601</td>\n",
       "      <td>6.913867</td>\n",
       "      <td>0.000886</td>\n",
       "    </tr>\n",
       "    <tr>\n",
       "      <th>1</th>\n",
       "      <td>60602</td>\n",
       "      <td>9.665595</td>\n",
       "      <td>0.002412</td>\n",
       "    </tr>\n",
       "  </tbody>\n",
       "</table>\n",
       "</div>"
      ],
      "text/plain": [
       "     zip  test rate  death rate\n",
       "0  60601   6.913867    0.000886\n",
       "1  60602   9.665595    0.002412"
      ]
     },
     "execution_count": 7,
     "metadata": {},
     "output_type": "execute_result"
    }
   ],
   "source": [
    "data=pd.DataFrame()\n",
    "for i in np.arange(0,59,1):\n",
    "    z=ziplist.index[i]\n",
    "    temp = COVID[COVID[\"zip\"]==str(z)]\n",
    "    p=temp[\"population\"].max()\n",
    "    t=temp[\"tests\"].max()\n",
    "    d=temp[\"deaths\"].max()\n",
    "    data.loc[i,\"zip\"]=str(z)\n",
    "    data.loc[i,\"test rate\"]=t/p  #test rate = number of tests per person\n",
    "    data.loc[i,\"death rate\"]=d/p #death rate = number of deaths per person\n",
    "data=data[data[\"zip\"]!='60666']\n",
    "data=data.reset_index(drop=True) #renumbers the index\n",
    "data.head(2)"
   ]
  },
  {
   "cell_type": "markdown",
   "metadata": {},
   "source": [
    "6) Let's make a graph which shows the test rate and death rate by zip code. "
   ]
  },
  {
   "cell_type": "code",
   "execution_count": 8,
   "metadata": {},
   "outputs": [
    {
     "data": {
      "image/png": "[encoded data removed]",
      "text/plain": [
       "<matplotlib.figure.Figure at 0x198867c2080>"
      ]
     },
     "metadata": {
      "needs_background": "light"
     },
     "output_type": "display_data"
    }
   ],
   "source": [
    "fig=plt.figure(figsize=(12,12))\n",
    "plt.ylim(-2.5,2.5)\n",
    "plt.xlim(-2.5,2.5)\n",
    "xm=np.mean(data[\"test rate\"])\n",
    "xs=np.std(data[\"test rate\"])\n",
    "ym=np.mean(data[\"death rate\"])\n",
    "ys=np.std(data[\"death rate\"])\n",
    "for i in np.arange(0,58):\n",
    "        z=data.loc[i,\"zip\"]\n",
    "        plt.text((data.loc[i,\"test rate\"]-xm)/xs,(data.loc[i,\"death rate\"]-ym)/ys,z,size=8,color='black',ha='center',va='center')\n",
    "        data.loc[i,\"std test rate\"]=(data.loc[i,\"test rate\"]-xm)/xs\n",
    "        data.loc[i,\"std death rate\"]=(data.loc[i,\"death rate\"]-ym)/ys\n",
    "plt.xlabel(\"standardized tests per person\",size=30)\n",
    "plt.ylabel(\"standardized deaths per 100,000 people\",size=30)\n",
    "plt.xticks(fontsize=30)\n",
    "plt.yticks(fontsize=30)\n",
    "plt.gca().add_patch(Rectangle((-1.5, -2), 3, 4,fc ='lightgray'))\n",
    "plt.savefig(\"chistandardcovid.png\")"
   ]
  },
  {
   "cell_type": "code",
   "execution_count": 9,
   "metadata": {},
   "outputs": [
    {
     "data": {
      "text/html": [
       "<div>\n",
       "<style scoped>\n",
       "    .dataframe tbody tr th:only-of-type {\n",
       "        vertical-align: middle;\n",
       "    }\n",
       "\n",
       "    .dataframe tbody tr th {\n",
       "        vertical-align: top;\n",
       "    }\n",
       "\n",
       "    .dataframe thead th {\n",
       "        text-align: right;\n",
       "    }\n",
       "</style>\n",
       "<table border=\"1\" class=\"dataframe\">\n",
       "  <thead>\n",
       "    <tr style=\"text-align: right;\">\n",
       "      <th></th>\n",
       "      <th>zip</th>\n",
       "      <th>test rate</th>\n",
       "      <th>death rate</th>\n",
       "      <th>std test rate</th>\n",
       "      <th>std death rate</th>\n",
       "    </tr>\n",
       "  </thead>\n",
       "  <tbody>\n",
       "    <tr>\n",
       "      <th>0</th>\n",
       "      <td>60601</td>\n",
       "      <td>6.913867</td>\n",
       "      <td>0.000886</td>\n",
       "      <td>0.580469</td>\n",
       "      <td>-1.311419</td>\n",
       "    </tr>\n",
       "    <tr>\n",
       "      <th>1</th>\n",
       "      <td>60602</td>\n",
       "      <td>9.665595</td>\n",
       "      <td>0.002412</td>\n",
       "      <td>1.676577</td>\n",
       "      <td>-0.149852</td>\n",
       "    </tr>\n",
       "    <tr>\n",
       "      <th>2</th>\n",
       "      <td>60603</td>\n",
       "      <td>9.901193</td>\n",
       "      <td>0.000000</td>\n",
       "      <td>1.770423</td>\n",
       "      <td>-1.985848</td>\n",
       "    </tr>\n",
       "    <tr>\n",
       "      <th>3</th>\n",
       "      <td>60604</td>\n",
       "      <td>19.681586</td>\n",
       "      <td>0.000000</td>\n",
       "      <td>5.666289</td>\n",
       "      <td>-1.985848</td>\n",
       "    </tr>\n",
       "    <tr>\n",
       "      <th>4</th>\n",
       "      <td>60605</td>\n",
       "      <td>4.760166</td>\n",
       "      <td>0.000545</td>\n",
       "      <td>-0.277424</td>\n",
       "      <td>-1.570866</td>\n",
       "    </tr>\n",
       "  </tbody>\n",
       "</table>\n",
       "</div>"
      ],
      "text/plain": [
       "     zip  test rate  death rate  std test rate  std death rate\n",
       "0  60601   6.913867    0.000886       0.580469       -1.311419\n",
       "1  60602   9.665595    0.002412       1.676577       -0.149852\n",
       "2  60603   9.901193    0.000000       1.770423       -1.985848\n",
       "3  60604  19.681586    0.000000       5.666289       -1.985848\n",
       "4  60605   4.760166    0.000545      -0.277424       -1.570866"
      ]
     },
     "execution_count": 9,
     "metadata": {},
     "output_type": "execute_result"
    }
   ],
   "source": [
    "data.head()"
   ]
  },
  {
   "cell_type": "code",
   "execution_count": 10,
   "metadata": {},
   "outputs": [
    {
     "name": "stdout",
     "output_type": "stream",
     "text": [
      "variance test rate 1.0\n",
      "variance death rate 0.9999999999999991\n"
     ]
    }
   ],
   "source": [
    "print(\"variance test rate\",np.std(data[\"std test rate\"])**2)\n",
    "print(\"variance death rate\",np.std(data[\"std death rate\"])**2)"
   ]
  },
  {
   "cell_type": "code",
   "execution_count": 11,
   "metadata": {},
   "outputs": [
    {
     "name": "stdout",
     "output_type": "stream",
     "text": [
      "variance test rate 0.11583206544615858\n",
      "variance death rate 0.8931531613437289\n"
     ]
    }
   ],
   "source": [
    "data1=data[data[\"zip\"]!='60707']\n",
    "data1=data1[data1[\"zip\"]!='60827']\n",
    "data1=data1[data1[\"zip\"]!='60606']\n",
    "data1=data1[data1[\"zip\"]!='60602']\n",
    "data1=data1[data1[\"zip\"]!='60603']\n",
    "data1=data1[data1[\"zip\"]!='60604']\n",
    "print(\"variance test rate\",np.std(data1[\"std test rate\"])**2)\n",
    "print(\"variance death rate\",np.std(data1[\"std death rate\"])**2)"
   ]
  },
  {
   "cell_type": "markdown",
   "metadata": {},
   "source": [
    "<h2> 1. Example: Hardship Index</h2>\n",
    "We will now show that PCA projects standardized data onto a 1-dimensional subspace (i.e. straight line through the origin) which maximizes the projected variance.We will consider standardzed data for 6 Standardized Hardship Indicators for 77 Chicago Community Areas.\n",
    "\n",
    "The indicators are abbreviated as follows:\n",
    "\n",
    "<ul>\n",
    "    <li> UNEMP = % of community age 16 and older who are unemployed. </li>\n",
    "     <li> NOHS = % of community age 25 and older without a high school diploma. </li>\n",
    "         <li> DEP = % of community who are dependent (under age 18 or over age 64). </li>\n",
    "             <li> HOUS= % of community with overcrowded housing (more than 1 occupant per room).</li>\n",
    "                 <li> POV = % below federal poverty line\n",
    "    <li> INC = per capita income.</li>\n",
    "             \n",
    "Source: https://greatcities.uic.edu/wp-content/uploads/2016/07/GCI-Hardship-Index-Fact-SheetV2.pdf (2010-2014) https://greatcities.uic.edu/wp-content/uploads/2019/12/Hardship-Index-Fact-Sheet-2017-ACS-Final-1.pdf (2013-2017)."
   ]
  },
  {
   "cell_type": "markdown",
   "metadata": {},
   "source": [
    "1) import the usual libraries"
   ]
  },
  {
   "cell_type": "code",
   "execution_count": 12,
   "metadata": {},
   "outputs": [],
   "source": [
    "import numpy as np  \n",
    "import pandas as pd \n",
    "import matplotlib.pyplot as plt # plotting library"
   ]
  },
  {
   "cell_type": "markdown",
   "metadata": {},
   "source": [
    "2) Import library for KMeans clustering"
   ]
  },
  {
   "cell_type": "code",
   "execution_count": 13,
   "metadata": {},
   "outputs": [],
   "source": [
    "import sklearn\n",
    "from sklearn.cluster import KMeans "
   ]
  },
  {
   "cell_type": "markdown",
   "metadata": {},
   "source": [
    "3) Read hardship index data."
   ]
  },
  {
   "cell_type": "code",
   "execution_count": 14,
   "metadata": {},
   "outputs": [
    {
     "data": {
      "text/html": [
       "<div>\n",
       "<style scoped>\n",
       "    .dataframe tbody tr th:only-of-type {\n",
       "        vertical-align: middle;\n",
       "    }\n",
       "\n",
       "    .dataframe tbody tr th {\n",
       "        vertical-align: top;\n",
       "    }\n",
       "\n",
       "    .dataframe thead th {\n",
       "        text-align: right;\n",
       "    }\n",
       "</style>\n",
       "<table border=\"1\" class=\"dataframe\">\n",
       "  <thead>\n",
       "    <tr style=\"text-align: right;\">\n",
       "      <th></th>\n",
       "      <th>Community</th>\n",
       "      <th>index</th>\n",
       "      <th>HI14</th>\n",
       "      <th>UNEMP14</th>\n",
       "      <th>NOHS14</th>\n",
       "      <th>DEP14</th>\n",
       "      <th>HOUS14</th>\n",
       "      <th>POV14</th>\n",
       "      <th>INC14</th>\n",
       "      <th>HI17</th>\n",
       "      <th>UNEMP17</th>\n",
       "      <th>NOHS17</th>\n",
       "      <th>DEP17</th>\n",
       "      <th>HOUS17</th>\n",
       "      <th>POV17</th>\n",
       "      <th>INC17</th>\n",
       "      <th>HOM14</th>\n",
       "      <th>HOM17</th>\n",
       "      <th>LAT</th>\n",
       "      <th>LON</th>\n",
       "    </tr>\n",
       "  </thead>\n",
       "  <tbody>\n",
       "    <tr>\n",
       "      <th>0</th>\n",
       "      <td>Albany Park</td>\n",
       "      <td>13</td>\n",
       "      <td>47.0</td>\n",
       "      <td>-0.705481</td>\n",
       "      <td>0.667993</td>\n",
       "      <td>-0.470891</td>\n",
       "      <td>1.42992</td>\n",
       "      <td>-0.353466</td>\n",
       "      <td>-0.165118</td>\n",
       "      <td>45.7</td>\n",
       "      <td>-0.706842</td>\n",
       "      <td>0.506067</td>\n",
       "      <td>-0.530539</td>\n",
       "      <td>1.562581</td>\n",
       "      <td>-0.418499</td>\n",
       "      <td>-0.183089</td>\n",
       "      <td>2</td>\n",
       "      <td>1</td>\n",
       "      <td>41.96823</td>\n",
       "      <td>-87.72421</td>\n",
       "    </tr>\n",
       "    <tr>\n",
       "      <th>1</th>\n",
       "      <td>Archer Heights</td>\n",
       "      <td>56</td>\n",
       "      <td>54.4</td>\n",
       "      <td>-0.193683</td>\n",
       "      <td>1.136956</td>\n",
       "      <td>0.471085</td>\n",
       "      <td>1.51857</td>\n",
       "      <td>-0.672245</td>\n",
       "      <td>-0.605100</td>\n",
       "      <td>56.1</td>\n",
       "      <td>-0.442634</td>\n",
       "      <td>1.090575</td>\n",
       "      <td>0.742190</td>\n",
       "      <td>1.945762</td>\n",
       "      <td>-0.473646</td>\n",
       "      <td>-0.607925</td>\n",
       "      <td>0</td>\n",
       "      <td>3</td>\n",
       "      <td>41.81093</td>\n",
       "      <td>-87.72677</td>\n",
       "    </tr>\n",
       "  </tbody>\n",
       "</table>\n",
       "</div>"
      ],
      "text/plain": [
       "        Community  index  HI14   UNEMP14    NOHS14     DEP14   HOUS14  \\\n",
       "0     Albany Park     13  47.0 -0.705481  0.667993 -0.470891  1.42992   \n",
       "1  Archer Heights     56  54.4 -0.193683  1.136956  0.471085  1.51857   \n",
       "\n",
       "      POV14     INC14  HI17   UNEMP17    NOHS17     DEP17    HOUS17     POV17  \\\n",
       "0 -0.353466 -0.165118  45.7 -0.706842  0.506067 -0.530539  1.562581 -0.418499   \n",
       "1 -0.672245 -0.605100  56.1 -0.442634  1.090575  0.742190  1.945762 -0.473646   \n",
       "\n",
       "      INC17  HOM14  HOM17       LAT       LON  \n",
       "0 -0.183089      2      1  41.96823 -87.72421  \n",
       "1 -0.607925      0      3  41.81093 -87.72677  "
      ]
     },
     "execution_count": 14,
     "metadata": {},
     "output_type": "execute_result"
    }
   ],
   "source": [
    "hom_df = pd.read_excel('standardizedindicators.xlsx')\n",
    "hom_df.head(2)"
   ]
  },
  {
   "cell_type": "markdown",
   "metadata": {},
   "source": [
    "4) Create dataframe with the 2017 indicator values."
   ]
  },
  {
   "cell_type": "code",
   "execution_count": 15,
   "metadata": {},
   "outputs": [
    {
     "data": {
      "text/html": [
       "<div>\n",
       "<style scoped>\n",
       "    .dataframe tbody tr th:only-of-type {\n",
       "        vertical-align: middle;\n",
       "    }\n",
       "\n",
       "    .dataframe tbody tr th {\n",
       "        vertical-align: top;\n",
       "    }\n",
       "\n",
       "    .dataframe thead th {\n",
       "        text-align: right;\n",
       "    }\n",
       "</style>\n",
       "<table border=\"1\" class=\"dataframe\">\n",
       "  <thead>\n",
       "    <tr style=\"text-align: right;\">\n",
       "      <th></th>\n",
       "      <th>UNEMP17</th>\n",
       "      <th>NOHS17</th>\n",
       "      <th>DEP17</th>\n",
       "      <th>HOUS17</th>\n",
       "      <th>POV17</th>\n",
       "      <th>INC17</th>\n",
       "    </tr>\n",
       "  </thead>\n",
       "  <tbody>\n",
       "    <tr>\n",
       "      <th>0</th>\n",
       "      <td>-0.706842</td>\n",
       "      <td>0.506067</td>\n",
       "      <td>-0.530539</td>\n",
       "      <td>1.562581</td>\n",
       "      <td>-0.418499</td>\n",
       "      <td>-0.183089</td>\n",
       "    </tr>\n",
       "    <tr>\n",
       "      <th>1</th>\n",
       "      <td>-0.442634</td>\n",
       "      <td>1.090575</td>\n",
       "      <td>0.742190</td>\n",
       "      <td>1.945762</td>\n",
       "      <td>-0.473646</td>\n",
       "      <td>-0.607925</td>\n",
       "    </tr>\n",
       "  </tbody>\n",
       "</table>\n",
       "</div>"
      ],
      "text/plain": [
       "    UNEMP17    NOHS17     DEP17    HOUS17     POV17     INC17\n",
       "0 -0.706842  0.506067 -0.530539  1.562581 -0.418499 -0.183089\n",
       "1 -0.442634  1.090575  0.742190  1.945762 -0.473646 -0.607925"
      ]
     },
     "execution_count": 15,
     "metadata": {},
     "output_type": "execute_result"
    }
   ],
   "source": [
    "HI17=hom_df[[\"UNEMP17\",\"NOHS17\",\"DEP17\",\"HOUS17\",\"POV17\",\"INC17\"]]\n",
    "HI17.head(2)"
   ]
  },
  {
   "cell_type": "markdown",
   "metadata": {},
   "source": [
    "5) Create a dataframe with just the unemployment and income data."
   ]
  },
  {
   "cell_type": "code",
   "execution_count": 16,
   "metadata": {},
   "outputs": [
    {
     "data": {
      "text/html": [
       "<div>\n",
       "<style scoped>\n",
       "    .dataframe tbody tr th:only-of-type {\n",
       "        vertical-align: middle;\n",
       "    }\n",
       "\n",
       "    .dataframe tbody tr th {\n",
       "        vertical-align: top;\n",
       "    }\n",
       "\n",
       "    .dataframe thead th {\n",
       "        text-align: right;\n",
       "    }\n",
       "</style>\n",
       "<table border=\"1\" class=\"dataframe\">\n",
       "  <thead>\n",
       "    <tr style=\"text-align: right;\">\n",
       "      <th></th>\n",
       "      <th>UNEMP17</th>\n",
       "      <th>INC17</th>\n",
       "    </tr>\n",
       "  </thead>\n",
       "  <tbody>\n",
       "    <tr>\n",
       "      <th>0</th>\n",
       "      <td>-0.706842</td>\n",
       "      <td>-0.183089</td>\n",
       "    </tr>\n",
       "    <tr>\n",
       "      <th>1</th>\n",
       "      <td>-0.442634</td>\n",
       "      <td>-0.607925</td>\n",
       "    </tr>\n",
       "  </tbody>\n",
       "</table>\n",
       "</div>"
      ],
      "text/plain": [
       "    UNEMP17     INC17\n",
       "0 -0.706842 -0.183089\n",
       "1 -0.442634 -0.607925"
      ]
     },
     "execution_count": 16,
     "metadata": {},
     "output_type": "execute_result"
    }
   ],
   "source": [
    "EMPINC=HI17[[\"UNEMP17\",\"INC17\"]]\n",
    "EMPINC.head(2)"
   ]
  },
  {
   "cell_type": "markdown",
   "metadata": {},
   "source": [
    "5) Check that the 6 dimensional data points have been projected onto a 1 dimensional line."
   ]
  },
  {
   "cell_type": "code",
   "execution_count": 17,
   "metadata": {},
   "outputs": [
    {
     "name": "stdout",
     "output_type": "stream",
     "text": [
      "(77, 6)\n",
      "(77, 1)\n"
     ]
    }
   ],
   "source": [
    "from sklearn.decomposition import PCA\n",
    "pca = PCA(n_components=1)\n",
    "projected = pca.fit_transform(EMPINC)\n",
    "print(HI17.shape)\n",
    "print(projected.shape)"
   ]
  },
  {
   "cell_type": "markdown",
   "metadata": {},
   "source": [
    "6) Get the values on the projected line."
   ]
  },
  {
   "cell_type": "code",
   "execution_count": 18,
   "metadata": {},
   "outputs": [
    {
     "name": "stdout",
     "output_type": "stream",
     "text": [
      "[[-0.70710678  0.70710678]]\n"
     ]
    },
    {
     "data": {
      "text/plain": [
       "array([0.3703489])"
      ]
     },
     "execution_count": 18,
     "metadata": {},
     "output_type": "execute_result"
    }
   ],
   "source": [
    "print(pca.components_) #unit vector specifying direction of the principal component line\n",
    "projected[0]"
   ]
  },
  {
   "cell_type": "code",
   "execution_count": 19,
   "metadata": {},
   "outputs": [
    {
     "name": "stdout",
     "output_type": "stream",
     "text": [
      "[1.66614794]\n"
     ]
    }
   ],
   "source": [
    "print(pca.explained_variance_)"
   ]
  },
  {
   "cell_type": "code",
   "execution_count": 20,
   "metadata": {},
   "outputs": [
    {
     "data": {
      "text/plain": [
       "1.6445096544427147"
      ]
     },
     "execution_count": 20,
     "metadata": {},
     "output_type": "execute_result"
    }
   ],
   "source": [
    "projected.var()"
   ]
  },
  {
   "cell_type": "markdown",
   "metadata": {},
   "source": [
    "7) Plot the points (UNEMP17,INC17) and the projection of these points onto the line y= -x."
   ]
  },
  {
   "cell_type": "code",
   "execution_count": 21,
   "metadata": {},
   "outputs": [
    {
     "data": {
      "image/png": "[encoded data removed]",
      "text/plain": [
       "<matplotlib.figure.Figure at 0x198868b4e48>"
      ]
     },
     "metadata": {
      "needs_background": "light"
     },
     "output_type": "display_data"
    }
   ],
   "source": [
    "fig=plt.figure(figsize=(10,13))\n",
    "plt.scatter(-projected[:, 0]/np.sqrt(2), projected[:, 0]/np.sqrt(2), s=150)\n",
    "for i in EMPINC.index:\n",
    "    plt.text(EMPINC.loc[i,\"UNEMP17\"],EMPINC.loc[i,\"INC17\"],str(i+1),size=20,va='center',ha='center')\n",
    "plt.xlim(-3, 3) \n",
    "plt.ylim(-4, 4)\n",
    "plt.xlabel('Unemployment 2017',size=40)\n",
    "plt.ylabel('Income 2017',size=40)\n",
    "plt.xticks(fontsize=30)\n",
    "plt.yticks(fontsize=30)\n",
    "plt.savefig(\"empinc.png\")"
   ]
  },
  {
   "cell_type": "code",
   "execution_count": 22,
   "metadata": {},
   "outputs": [
    {
     "name": "stdout",
     "output_type": "stream",
     "text": [
      "Variance of Unemployment 1.0131578947368423\n",
      "Variance of Income 1.013157894736842\n",
      "Variance of Projection 1.6661479393695926\n"
     ]
    }
   ],
   "source": [
    "import statistics as stat\n",
    "print(\"Variance of Unemployment\", stat.variance(EMPINC[\"UNEMP17\"]))\n",
    "print(\"Variance of Income\", stat.variance(EMPINC[\"INC17\"]))\n",
    "print(\"Variance of Projection\",stat.variance(projected[:, 0]))"
   ]
  },
  {
   "cell_type": "markdown",
   "metadata": {},
   "source": [
    "Practice:\n",
    "\n",
    "Repeat the above analysis using \"NOHS17\" and \"POV17\"."
   ]
  },
  {
   "cell_type": "markdown",
   "metadata": {},
   "source": [
    "<h2>2. EXERCISE: PCA LETTER RECOGNITION</h2>\n",
    "In this exercise, we are going to use Principal Component Analysis (PCA) to reduce 64x64 bit images of the letters `a' and `b' represented as $64^2$ dimensional vectors onto a 2 dimensional subspace.   \n",
    "\n",
    "All the 8 letter images (four a's and four b's) should be in a sub-folder called `letters`, located within the same folder that this JNB is located.\n",
    "\n",
    "Datafiles: a1.png, a2.png, a3.png, a4.png, b1.png, b2.png, b3.png, b4.png"
   ]
  },
  {
   "cell_type": "markdown",
   "metadata": {},
   "source": [
    "1) Run the following cell with `!pip install opencv-python`. (Click the playbutton in your environment when the cell is highlighted)."
   ]
  },
  {
   "cell_type": "code",
   "execution_count": 23,
   "metadata": {},
   "outputs": [
    {
     "name": "stdout",
     "output_type": "stream",
     "text": [
      "Requirement already satisfied: opencv-python in c:\\users\\pisihara\\appdata\\local\\continuum\\anaconda3\\lib\\site-packages (4.6.0.66)\n",
      "Requirement already satisfied: numpy>=1.13.3 in c:\\users\\pisihara\\appdata\\local\\continuum\\anaconda3\\lib\\site-packages (from opencv-python) (1.19.3)\n"
     ]
    },
    {
     "name": "stderr",
     "output_type": "stream",
     "text": [
      "WARNING: Ignoring invalid distribution -umpy (c:\\users\\pisihara\\appdata\\local\\continuum\\anaconda3\\lib\\site-packages)\n",
      "WARNING: Ignoring invalid distribution -cipy (c:\\users\\pisihara\\appdata\\local\\continuum\\anaconda3\\lib\\site-packages)\n",
      "WARNING: Ignoring invalid distribution -umpy (c:\\users\\pisihara\\appdata\\local\\continuum\\anaconda3\\lib\\site-packages)\n",
      "WARNING: Ignoring invalid distribution -cipy (c:\\users\\pisihara\\appdata\\local\\continuum\\anaconda3\\lib\\site-packages)\n",
      "WARNING: Ignoring invalid distribution -umpy (c:\\users\\pisihara\\appdata\\local\\continuum\\anaconda3\\lib\\site-packages)\n",
      "WARNING: Ignoring invalid distribution -cipy (c:\\users\\pisihara\\appdata\\local\\continuum\\anaconda3\\lib\\site-packages)\n",
      "WARNING: Ignoring invalid distribution -umpy (c:\\users\\pisihara\\appdata\\local\\continuum\\anaconda3\\lib\\site-packages)\n",
      "WARNING: Ignoring invalid distribution -cipy (c:\\users\\pisihara\\appdata\\local\\continuum\\anaconda3\\lib\\site-packages)\n",
      "WARNING: Ignoring invalid distribution -umpy (c:\\users\\pisihara\\appdata\\local\\continuum\\anaconda3\\lib\\site-packages)\n",
      "WARNING: Ignoring invalid distribution -cipy (c:\\users\\pisihara\\appdata\\local\\continuum\\anaconda3\\lib\\site-packages)\n"
     ]
    }
   ],
   "source": [
    "!pip install opencv-python"
   ]
  },
  {
   "cell_type": "markdown",
   "metadata": {},
   "source": [
    "2) Import libraries."
   ]
  },
  {
   "cell_type": "code",
   "execution_count": 24,
   "metadata": {},
   "outputs": [
    {
     "name": "stderr",
     "output_type": "stream",
     "text": [
      "C:\\Users\\pisihara\\AppData\\Local\\Continuum\\anaconda3\\lib\\site-packages\\ipykernel_launcher.py:16: UserWarning: \n",
      "This call to matplotlib.use() has no effect because the backend has already\n",
      "been chosen; matplotlib.use() must be called *before* pylab, matplotlib.pyplot,\n",
      "or matplotlib.backends is imported for the first time.\n",
      "\n",
      "The backend was *originally* set to 'module://ipykernel.pylab.backend_inline' by the following code:\n",
      "  File \"C:\\Users\\pisihara\\AppData\\Local\\Continuum\\anaconda3\\lib\\runpy.py\", line 193, in _run_module_as_main\n",
      "    \"__main__\", mod_spec)\n",
      "  File \"C:\\Users\\pisihara\\AppData\\Local\\Continuum\\anaconda3\\lib\\runpy.py\", line 85, in _run_code\n",
      "    exec(code, run_globals)\n",
      "  File \"C:\\Users\\pisihara\\AppData\\Local\\Continuum\\anaconda3\\lib\\site-packages\\ipykernel_launcher.py\", line 16, in <module>\n",
      "    app.launch_new_instance()\n",
      "  File \"C:\\Users\\pisihara\\AppData\\Local\\Continuum\\anaconda3\\lib\\site-packages\\traitlets\\config\\application.py\", line 658, in launch_instance\n",
      "    app.start()\n",
      "  File \"C:\\Users\\pisihara\\AppData\\Local\\Continuum\\anaconda3\\lib\\site-packages\\ipykernel\\kernelapp.py\", line 505, in start\n",
      "    self.io_loop.start()\n",
      "  File \"C:\\Users\\pisihara\\AppData\\Local\\Continuum\\anaconda3\\lib\\site-packages\\zmq\\eventloop\\ioloop.py\", line 177, in start\n",
      "    super(ZMQIOLoop, self).start()\n",
      "  File \"C:\\Users\\pisihara\\AppData\\Local\\Continuum\\anaconda3\\lib\\site-packages\\tornado\\ioloop.py\", line 832, in start\n",
      "    self._run_callback(self._callbacks.popleft())\n",
      "  File \"C:\\Users\\pisihara\\AppData\\Local\\Continuum\\anaconda3\\lib\\site-packages\\tornado\\ioloop.py\", line 605, in _run_callback\n",
      "    ret = callback()\n",
      "  File \"C:\\Users\\pisihara\\AppData\\Local\\Continuum\\anaconda3\\lib\\site-packages\\tornado\\stack_context.py\", line 277, in null_wrapper\n",
      "    return fn(*args, **kwargs)\n",
      "  File \"C:\\Users\\pisihara\\AppData\\Local\\Continuum\\anaconda3\\lib\\site-packages\\tornado\\gen.py\", line 1152, in inner\n",
      "    self.run()\n",
      "  File \"C:\\Users\\pisihara\\AppData\\Local\\Continuum\\anaconda3\\lib\\site-packages\\tornado\\gen.py\", line 1069, in run\n",
      "    yielded = self.gen.send(value)\n",
      "  File \"C:\\Users\\pisihara\\AppData\\Local\\Continuum\\anaconda3\\lib\\site-packages\\ipykernel\\kernelbase.py\", line 365, in process_one\n",
      "    yield gen.maybe_future(dispatch(*args))\n",
      "  File \"C:\\Users\\pisihara\\AppData\\Local\\Continuum\\anaconda3\\lib\\site-packages\\tornado\\gen.py\", line 307, in wrapper\n",
      "    yielded = next(result)\n",
      "  File \"C:\\Users\\pisihara\\AppData\\Local\\Continuum\\anaconda3\\lib\\site-packages\\ipykernel\\kernelbase.py\", line 272, in dispatch_shell\n",
      "    yield gen.maybe_future(handler(stream, idents, msg))\n",
      "  File \"C:\\Users\\pisihara\\AppData\\Local\\Continuum\\anaconda3\\lib\\site-packages\\tornado\\gen.py\", line 307, in wrapper\n",
      "    yielded = next(result)\n",
      "  File \"C:\\Users\\pisihara\\AppData\\Local\\Continuum\\anaconda3\\lib\\site-packages\\ipykernel\\kernelbase.py\", line 542, in execute_request\n",
      "    user_expressions, allow_stdin,\n",
      "  File \"C:\\Users\\pisihara\\AppData\\Local\\Continuum\\anaconda3\\lib\\site-packages\\tornado\\gen.py\", line 307, in wrapper\n",
      "    yielded = next(result)\n",
      "  File \"C:\\Users\\pisihara\\AppData\\Local\\Continuum\\anaconda3\\lib\\site-packages\\ipykernel\\ipkernel.py\", line 294, in do_execute\n",
      "    res = shell.run_cell(code, store_history=store_history, silent=silent)\n",
      "  File \"C:\\Users\\pisihara\\AppData\\Local\\Continuum\\anaconda3\\lib\\site-packages\\ipykernel\\zmqshell.py\", line 536, in run_cell\n",
      "    return super(ZMQInteractiveShell, self).run_cell(*args, **kwargs)\n",
      "  File \"C:\\Users\\pisihara\\AppData\\Local\\Continuum\\anaconda3\\lib\\site-packages\\IPython\\core\\interactiveshell.py\", line 2739, in run_cell\n",
      "    self.events.trigger('post_run_cell')\n",
      "  File \"C:\\Users\\pisihara\\AppData\\Local\\Continuum\\anaconda3\\lib\\site-packages\\IPython\\core\\events.py\", line 73, in trigger\n",
      "    func(*args, **kwargs)\n",
      "  File \"C:\\Users\\pisihara\\AppData\\Local\\Continuum\\anaconda3\\lib\\site-packages\\ipykernel\\pylab\\backend_inline.py\", line 164, in configure_once\n",
      "    activate_matplotlib(backend)\n",
      "  File \"C:\\Users\\pisihara\\AppData\\Local\\Continuum\\anaconda3\\lib\\site-packages\\IPython\\core\\pylabtools.py\", line 308, in activate_matplotlib\n",
      "    matplotlib.pyplot.switch_backend(backend)\n",
      "  File \"C:\\Users\\pisihara\\AppData\\Local\\Continuum\\anaconda3\\lib\\site-packages\\matplotlib\\pyplot.py\", line 232, in switch_backend\n",
      "    matplotlib.use(newbackend, warn=False, force=True)\n",
      "  File \"C:\\Users\\pisihara\\AppData\\Local\\Continuum\\anaconda3\\lib\\site-packages\\matplotlib\\__init__.py\", line 1305, in use\n",
      "    reload(sys.modules['matplotlib.backends'])\n",
      "  File \"C:\\Users\\pisihara\\AppData\\Local\\Continuum\\anaconda3\\lib\\importlib\\__init__.py\", line 166, in reload\n",
      "    _bootstrap._exec(spec, module)\n",
      "  File \"C:\\Users\\pisihara\\AppData\\Local\\Continuum\\anaconda3\\lib\\site-packages\\matplotlib\\backends\\__init__.py\", line 14, in <module>\n",
      "    line for line in traceback.format_stack()\n",
      "\n",
      "\n",
      "  app.launch_new_instance()\n"
     ]
    }
   ],
   "source": [
    "import numpy as np\n",
    "import matplotlib\n",
    "import pandas as pd\n",
    "import cv2, os\n",
    "import matplotlib.pyplot as plt\n",
    "from sklearn.svm import SVC\n",
    "from sklearn.preprocessing import StandardScaler\n",
    "from sklearn.pipeline import Pipeline\n",
    "from sklearn.model_selection import train_test_split\n",
    "from scipy import stats\n",
    "import matplotlib as mpl\n",
    "import seaborn as sns; sns.set()\n",
    "import math\n",
    "import folium\n",
    "from folium.features import DivIcon\n",
    "matplotlib.use('Agg')\n",
    "matplotlib.style.use('fivethirtyeight')\n",
    "from sklearn.datasets import fetch_lfw_people, fetch_olivetti_faces\n",
    "%matplotlib inline\n",
    "from ipywidgets import interact"
   ]
  },
  {
   "cell_type": "markdown",
   "metadata": {},
   "source": [
    "3) The following function converts images in a folder to a matrix of column vectors containing pixel values for each image."
   ]
  },
  {
   "cell_type": "code",
   "execution_count": 25,
   "metadata": {},
   "outputs": [],
   "source": [
    "def imagetovector(npix,directory,nimages):\n",
    "    n=npix  #use nxn pixel image\n",
    "    # You'll want to store all your images in a folder within the same directory as this notebook. \n",
    "    # Enter the name of that directory below.\n",
    "    directory = directory # example: \"images\"\n",
    "\n",
    "    # Dictionaries to store the image data and the dataframes we'll make from them.\n",
    "    # The dataframes are used to translate data to and from excel.\n",
    "    imgs = {}\n",
    "    dfs = {}\n",
    "\n",
    "    # Each image will be resized to ensure that their proportions are consistent with each other.\n",
    "    # It's best to start with images that are already similarly sized so that images don't get\n",
    "    # too distorted in the resize process. \n",
    "    # Adjust the size to your preference: (width, height)\n",
    "    dsize = (n, n)\n",
    "\n",
    "    # This will iterate over every image in the directory given, read it into data, and create a \n",
    "    # dataframe for it. Both the image data and its corresponding dataframe are stored.\n",
    "    # Note that when being read into data, we interpret the image as grayscale. \n",
    "    pos = 0\n",
    "    for filename in os.listdir(directory):\n",
    "        f = os.path.join(directory, filename)\n",
    "        # checking if it is a file\n",
    "        if os.path.isfile(f):\n",
    "            imgs[pos] = cv2.imread(f, 0) # image data\n",
    "            imgs[pos] = cv2.resize(imgs[pos], dsize)\n",
    "            dfs[pos] = pd.DataFrame(imgs[pos]) # dataframe\n",
    "            pos += 1\n",
    "\n",
    "    # Exports the image dataframes to an excel file, with each excel sheet representing one image.\n",
    "    # If there's already an excel file by the same name, it will overwrite it. Note that if the\n",
    "    # excel file it's attempting to overwrite is already open, the write will be blocked.\n",
    "    with pd.ExcelWriter('image_data.xlsx') as writer: \n",
    "        for i in np.arange(0, len(dfs)):\n",
    "            dfs[i].to_excel(writer, sheet_name=str(i))\n",
    "    def matrixtovector(matrix,n,s):\n",
    "        t=0\n",
    "        vec=pd.DataFrame()\n",
    "        for i in np.arange(0,n,1):\n",
    "            for j in np.arange(0,n,1):\n",
    "                vec.loc[t,str(s)]=matrix.loc[i,j]\n",
    "                t=t+1\n",
    "        return vec\n",
    "\n",
    "    numimages=nimages\n",
    "    data=pd.DataFrame()\n",
    "    for t in np.arange(0,numimages,1):\n",
    "        data.loc[:,str(t)]=matrixtovector(dfs[t],n,t)            \n",
    "    return data,imgs"
   ]
  },
  {
   "cell_type": "markdown",
   "metadata": {},
   "source": [
    "4) Run the next code cells to test if you were able to use the correct path name. If not, go back and check if the images are in the file you copied the path name of, or check if you copied the correct path name. \n",
    "- The data set will be the 8 images in the folder \"letters\" with a $64 \\times 64$ resolution."
   ]
  },
  {
   "cell_type": "code",
   "execution_count": 26,
   "metadata": {},
   "outputs": [
    {
     "data": {
      "text/html": [
       "<div>\n",
       "<style scoped>\n",
       "    .dataframe tbody tr th:only-of-type {\n",
       "        vertical-align: middle;\n",
       "    }\n",
       "\n",
       "    .dataframe tbody tr th {\n",
       "        vertical-align: top;\n",
       "    }\n",
       "\n",
       "    .dataframe thead th {\n",
       "        text-align: right;\n",
       "    }\n",
       "</style>\n",
       "<table border=\"1\" class=\"dataframe\">\n",
       "  <thead>\n",
       "    <tr style=\"text-align: right;\">\n",
       "      <th></th>\n",
       "      <th>0</th>\n",
       "      <th>1</th>\n",
       "      <th>2</th>\n",
       "      <th>3</th>\n",
       "      <th>4</th>\n",
       "      <th>5</th>\n",
       "      <th>6</th>\n",
       "      <th>7</th>\n",
       "    </tr>\n",
       "  </thead>\n",
       "  <tbody>\n",
       "    <tr>\n",
       "      <th>0</th>\n",
       "      <td>255.0</td>\n",
       "      <td>255.0</td>\n",
       "      <td>255.0</td>\n",
       "      <td>255.0</td>\n",
       "      <td>255.0</td>\n",
       "      <td>255.0</td>\n",
       "      <td>255.0</td>\n",
       "      <td>255.0</td>\n",
       "    </tr>\n",
       "    <tr>\n",
       "      <th>1</th>\n",
       "      <td>255.0</td>\n",
       "      <td>255.0</td>\n",
       "      <td>255.0</td>\n",
       "      <td>255.0</td>\n",
       "      <td>255.0</td>\n",
       "      <td>255.0</td>\n",
       "      <td>255.0</td>\n",
       "      <td>255.0</td>\n",
       "    </tr>\n",
       "    <tr>\n",
       "      <th>2</th>\n",
       "      <td>255.0</td>\n",
       "      <td>255.0</td>\n",
       "      <td>255.0</td>\n",
       "      <td>255.0</td>\n",
       "      <td>255.0</td>\n",
       "      <td>255.0</td>\n",
       "      <td>255.0</td>\n",
       "      <td>255.0</td>\n",
       "    </tr>\n",
       "    <tr>\n",
       "      <th>3</th>\n",
       "      <td>255.0</td>\n",
       "      <td>255.0</td>\n",
       "      <td>255.0</td>\n",
       "      <td>255.0</td>\n",
       "      <td>255.0</td>\n",
       "      <td>255.0</td>\n",
       "      <td>255.0</td>\n",
       "      <td>255.0</td>\n",
       "    </tr>\n",
       "  </tbody>\n",
       "</table>\n",
       "</div>"
      ],
      "text/plain": [
       "       0      1      2      3      4      5      6      7\n",
       "0  255.0  255.0  255.0  255.0  255.0  255.0  255.0  255.0\n",
       "1  255.0  255.0  255.0  255.0  255.0  255.0  255.0  255.0\n",
       "2  255.0  255.0  255.0  255.0  255.0  255.0  255.0  255.0\n",
       "3  255.0  255.0  255.0  255.0  255.0  255.0  255.0  255.0"
      ]
     },
     "execution_count": 26,
     "metadata": {},
     "output_type": "execute_result"
    }
   ],
   "source": [
    "[traindata,imgs]=imagetovector(64,\"letters\",8)\n",
    "traindata.head(4)"
   ]
  },
  {
   "cell_type": "code",
   "execution_count": 27,
   "metadata": {},
   "outputs": [
    {
     "data": {
      "text/plain": [
       "<matplotlib.image.AxesImage at 0x19886c52438>"
      ]
     },
     "execution_count": 27,
     "metadata": {},
     "output_type": "execute_result"
    },
    {
     "data": {
      "image/png": "[encoded data removed]",
      "text/plain": [
       "<matplotlib.figure.Figure at 0x198868c0550>"
      ]
     },
     "metadata": {
      "needs_background": "light"
     },
     "output_type": "display_data"
    }
   ],
   "source": [
    "#display the first  image\n",
    "plt.imshow(imgs[0], cmap=\"gray\") "
   ]
  },
  {
   "cell_type": "code",
   "execution_count": 28,
   "metadata": {},
   "outputs": [
    {
     "data": {
      "text/plain": [
       "<matplotlib.image.AxesImage at 0x19886c7add8>"
      ]
     },
     "execution_count": 28,
     "metadata": {},
     "output_type": "execute_result"
    },
    {
     "data": {
      "image/png": "[encoded data removed]",
      "text/plain": [
       "<matplotlib.figure.Figure at 0x19886c630f0>"
      ]
     },
     "metadata": {
      "needs_background": "light"
     },
     "output_type": "display_data"
    }
   ],
   "source": [
    "#display the second  image\n",
    "plt.imshow(imgs[1], cmap=\"gray\") "
   ]
  },
  {
   "cell_type": "code",
   "execution_count": 29,
   "metadata": {},
   "outputs": [
    {
     "data": {
      "text/plain": [
       "<matplotlib.image.AxesImage at 0x19886c9c278>"
      ]
     },
     "execution_count": 29,
     "metadata": {},
     "output_type": "execute_result"
    },
    {
     "data": {
      "image/png": "[encoded data removed]",
      "text/plain": [
       "<matplotlib.figure.Figure at 0x19886c84e10>"
      ]
     },
     "metadata": {
      "needs_background": "light"
     },
     "output_type": "display_data"
    }
   ],
   "source": [
    "#display the third image\n",
    "plt.imshow(imgs[2], cmap=\"gray\") "
   ]
  },
  {
   "cell_type": "code",
   "execution_count": 30,
   "metadata": {},
   "outputs": [
    {
     "data": {
      "text/plain": [
       "<matplotlib.image.AxesImage at 0x19886cc1b70>"
      ]
     },
     "execution_count": 30,
     "metadata": {},
     "output_type": "execute_result"
    },
    {
     "data": {
      "image/png": "[encoded data removed]",
      "text/plain": [
       "<matplotlib.figure.Figure at 0x19886ca91d0>"
      ]
     },
     "metadata": {
      "needs_background": "light"
     },
     "output_type": "display_data"
    }
   ],
   "source": [
    "#display the fourth training image\n",
    "plt.imshow(imgs[3], cmap=\"gray\") "
   ]
  },
  {
   "cell_type": "code",
   "execution_count": 31,
   "metadata": {},
   "outputs": [
    {
     "data": {
      "text/plain": [
       "<matplotlib.image.AxesImage at 0x19886ce54e0>"
      ]
     },
     "execution_count": 31,
     "metadata": {},
     "output_type": "execute_result"
    },
    {
     "data": {
      "image/png": "[encoded data removed]",
      "text/plain": [
       "<matplotlib.figure.Figure at 0x19886cb15f8>"
      ]
     },
     "metadata": {
      "needs_background": "light"
     },
     "output_type": "display_data"
    }
   ],
   "source": [
    "#display the fifth training image\n",
    "plt.imshow(imgs[4], cmap=\"gray\")"
   ]
  },
  {
   "cell_type": "code",
   "execution_count": 32,
   "metadata": {},
   "outputs": [
    {
     "data": {
      "text/plain": [
       "<matplotlib.image.AxesImage at 0x19886d0c1d0>"
      ]
     },
     "execution_count": 32,
     "metadata": {},
     "output_type": "execute_result"
    },
    {
     "data": {
      "image/png": "[encoded data removed]",
      "text/plain": [
       "<matplotlib.figure.Figure at 0x19886cf2438>"
      ]
     },
     "metadata": {
      "needs_background": "light"
     },
     "output_type": "display_data"
    }
   ],
   "source": [
    "#display the sixth image\n",
    "plt.imshow(imgs[5], cmap=\"gray\")"
   ]
  },
  {
   "cell_type": "code",
   "execution_count": 33,
   "metadata": {},
   "outputs": [
    {
     "data": {
      "text/plain": [
       "<matplotlib.image.AxesImage at 0x19886d2f080>"
      ]
     },
     "execution_count": 33,
     "metadata": {},
     "output_type": "execute_result"
    },
    {
     "data": {
      "image/png": "[encoded data removed]",
      "text/plain": [
       "<matplotlib.figure.Figure at 0x19886d14e10>"
      ]
     },
     "metadata": {
      "needs_background": "light"
     },
     "output_type": "display_data"
    }
   ],
   "source": [
    "#display the seventh image\n",
    "plt.imshow(imgs[6], cmap=\"gray\")"
   ]
  },
  {
   "cell_type": "code",
   "execution_count": 34,
   "metadata": {},
   "outputs": [
    {
     "data": {
      "text/plain": [
       "<matplotlib.image.AxesImage at 0x19886d592e8>"
      ]
     },
     "execution_count": 34,
     "metadata": {},
     "output_type": "execute_result"
    },
    {
     "data": {
      "image/png": "[encoded data removed]",
      "text/plain": [
       "<matplotlib.figure.Figure at 0x19886d2cac8>"
      ]
     },
     "metadata": {
      "needs_background": "light"
     },
     "output_type": "display_data"
    }
   ],
   "source": [
    "#display the eight image\n",
    "plt.imshow(imgs[7], cmap=\"gray\")"
   ]
  },
  {
   "cell_type": "code",
   "execution_count": 35,
   "metadata": {},
   "outputs": [],
   "source": [
    "#store the data in an Excel file\n",
    "letter=traindata\n",
    "letter.to_excel(\"ab.xlsx\")"
   ]
  },
  {
   "cell_type": "markdown",
   "metadata": {},
   "source": [
    "5) We will now use PCA to project the data onto the first 2 principal component vectors."
   ]
  },
  {
   "cell_type": "code",
   "execution_count": 36,
   "metadata": {},
   "outputs": [
    {
     "name": "stdout",
     "output_type": "stream",
     "text": [
      "original shape:    (8, 4096)\n",
      "transformed shape: (8, 2)\n"
     ]
    }
   ],
   "source": [
    "import numpy as np\n",
    "from sklearn.decomposition import PCA\n",
    "pca = PCA(n_components=2)\n",
    "pca.fit(np.transpose(letter))\n",
    "letter_pca = pca.transform(np.transpose(letter))\n",
    "print(\"original shape:   \", np.transpose(letter).shape)\n",
    "print(\"transformed shape:\", letter_pca.shape)"
   ]
  },
  {
   "cell_type": "code",
   "execution_count": 37,
   "metadata": {},
   "outputs": [
    {
     "name": "stdout",
     "output_type": "stream",
     "text": [
      "[[ 8.89354071e-17  2.03495534e-17  2.08839710e-17 ...  0.00000000e+00\n",
      "   0.00000000e+00  0.00000000e+00]\n",
      " [ 6.29552296e-16  2.30524383e-16 -1.39857897e-16 ...  0.00000000e+00\n",
      "   0.00000000e+00  0.00000000e+00]]\n"
     ]
    }
   ],
   "source": [
    "print(pca.components_)"
   ]
  },
  {
   "cell_type": "markdown",
   "metadata": {},
   "source": [
    "6) Let's check how well we can recognize the  2-dimensional versions of each image."
   ]
  },
  {
   "cell_type": "code",
   "execution_count": 38,
   "metadata": {},
   "outputs": [],
   "source": [
    "filtered = pca.inverse_transform(letter_pca)"
   ]
  },
  {
   "cell_type": "code",
   "execution_count": 39,
   "metadata": {},
   "outputs": [
    {
     "data": {
      "text/plain": [
       "<matplotlib.image.AxesImage at 0x19886bf03c8>"
      ]
     },
     "execution_count": 39,
     "metadata": {},
     "output_type": "execute_result"
    },
    {
     "data": {
      "image/png": "[encoded data removed]",
      "text/plain": [
       "<matplotlib.figure.Figure at 0x19886804a90>"
      ]
     },
     "metadata": {
      "needs_background": "light"
     },
     "output_type": "display_data"
    }
   ],
   "source": [
    "fig=plt.figure(figsize=(2,2))\n",
    "plt.gca().imshow(filtered[0].reshape(64, 64),\n",
    "                  cmap=\"gray\")"
   ]
  },
  {
   "cell_type": "code",
   "execution_count": 40,
   "metadata": {},
   "outputs": [
    {
     "data": {
      "text/plain": [
       "<matplotlib.image.AxesImage at 0x19886d76ac8>"
      ]
     },
     "execution_count": 40,
     "metadata": {},
     "output_type": "execute_result"
    },
    {
     "data": {
      "image/png": "[encoded data removed]",
      "text/plain": [
       "<matplotlib.figure.Figure at 0x198868045c0>"
      ]
     },
     "metadata": {
      "needs_background": "light"
     },
     "output_type": "display_data"
    }
   ],
   "source": [
    "fig=plt.figure(figsize=(2,2))\n",
    "plt.gca().imshow(filtered[1].reshape(64, 64),\n",
    "                                 cmap=\"gray\")"
   ]
  },
  {
   "cell_type": "code",
   "execution_count": 41,
   "metadata": {},
   "outputs": [
    {
     "data": {
      "text/plain": [
       "<matplotlib.image.AxesImage at 0x19886d99e48>"
      ]
     },
     "execution_count": 41,
     "metadata": {},
     "output_type": "execute_result"
    },
    {
     "data": {
      "image/png": "[encoded data removed]",
      "text/plain": [
       "<matplotlib.figure.Figure at 0x198867f99e8>"
      ]
     },
     "metadata": {
      "needs_background": "light"
     },
     "output_type": "display_data"
    }
   ],
   "source": [
    "fig=plt.figure(figsize=(2,2))\n",
    "plt.gca().imshow(filtered[2].reshape(64, 64),\n",
    "                                 cmap=\"gray\")"
   ]
  },
  {
   "cell_type": "code",
   "execution_count": 42,
   "metadata": {},
   "outputs": [
    {
     "data": {
      "text/plain": [
       "<matplotlib.image.AxesImage at 0x19886dbb2e8>"
      ]
     },
     "execution_count": 42,
     "metadata": {},
     "output_type": "execute_result"
    },
    {
     "data": {
      "image/png": "[encoded data removed]",
      "text/plain": [
       "<matplotlib.figure.Figure at 0x19886d5d5f8>"
      ]
     },
     "metadata": {
      "needs_background": "light"
     },
     "output_type": "display_data"
    }
   ],
   "source": [
    "fig=plt.figure(figsize=(2,2))\n",
    "plt.gca().imshow(filtered[3].reshape(64, 64),\n",
    "                                 cmap=\"gray\")"
   ]
  },
  {
   "cell_type": "code",
   "execution_count": 43,
   "metadata": {},
   "outputs": [
    {
     "data": {
      "text/plain": [
       "<matplotlib.image.AxesImage at 0x19886ddc470>"
      ]
     },
     "execution_count": 43,
     "metadata": {},
     "output_type": "execute_result"
    },
    {
     "data": {
      "image/png": "[encoded data removed]",
      "text/plain": [
       "<matplotlib.figure.Figure at 0x19886db9f60>"
      ]
     },
     "metadata": {
      "needs_background": "light"
     },
     "output_type": "display_data"
    }
   ],
   "source": [
    "fig=plt.figure(figsize=(2,2))\n",
    "plt.gca().imshow(filtered[4].reshape(64, 64),\n",
    "                                 cmap=\"gray\")"
   ]
  },
  {
   "cell_type": "code",
   "execution_count": 44,
   "metadata": {},
   "outputs": [
    {
     "data": {
      "text/plain": [
       "<matplotlib.image.AxesImage at 0x19886dff748>"
      ]
     },
     "execution_count": 44,
     "metadata": {},
     "output_type": "execute_result"
    },
    {
     "data": {
      "image/png": "[encoded data removed]",
      "text/plain": [
       "<matplotlib.figure.Figure at 0x19886dcde48>"
      ]
     },
     "metadata": {
      "needs_background": "light"
     },
     "output_type": "display_data"
    }
   ],
   "source": [
    "fig=plt.figure(figsize=(2,2))\n",
    "plt.gca().imshow(filtered[5].reshape(64, 64),\n",
    "                                 cmap=\"gray\")"
   ]
  },
  {
   "cell_type": "code",
   "execution_count": 45,
   "metadata": {},
   "outputs": [
    {
     "data": {
      "text/plain": [
       "<matplotlib.image.AxesImage at 0x19886e1db00>"
      ]
     },
     "execution_count": 45,
     "metadata": {},
     "output_type": "execute_result"
    },
    {
     "data": {
      "image/png": "[encoded data removed]",
      "text/plain": [
       "<matplotlib.figure.Figure at 0x19886defdd8>"
      ]
     },
     "metadata": {
      "needs_background": "light"
     },
     "output_type": "display_data"
    }
   ],
   "source": [
    "fig=plt.figure(figsize=(2,2))\n",
    "plt.gca().imshow(filtered[6].reshape(64, 64),\n",
    "                                 cmap=\"gray\")"
   ]
  },
  {
   "cell_type": "code",
   "execution_count": 46,
   "metadata": {},
   "outputs": [
    {
     "data": {
      "text/plain": [
       "<matplotlib.image.AxesImage at 0x19886e436a0>"
      ]
     },
     "execution_count": 46,
     "metadata": {},
     "output_type": "execute_result"
    },
    {
     "data": {
      "image/png": "[encoded data removed]",
      "text/plain": [
       "<matplotlib.figure.Figure at 0x19886e04ac8>"
      ]
     },
     "metadata": {
      "needs_background": "light"
     },
     "output_type": "display_data"
    }
   ],
   "source": [
    "fig=plt.figure(figsize=(2,2))\n",
    "plt.gca().imshow(filtered[7].reshape(64, 64),\n",
    "                                 cmap=\"gray\")"
   ]
  },
  {
   "cell_type": "markdown",
   "metadata": {},
   "source": [
    "7) Here are the images corresponding to the 2 basis vectors for the 2D subspace determined by the first two principal components. "
   ]
  },
  {
   "cell_type": "code",
   "execution_count": 47,
   "metadata": {},
   "outputs": [
    {
     "data": {
      "text/plain": [
       "<matplotlib.image.AxesImage at 0x19886e62208>"
      ]
     },
     "execution_count": 47,
     "metadata": {},
     "output_type": "execute_result"
    },
    {
     "data": {
      "image/png": "[encoded data removed]",
      "text/plain": [
       "<matplotlib.figure.Figure at 0x19886e3a898>"
      ]
     },
     "metadata": {
      "needs_background": "light"
     },
     "output_type": "display_data"
    }
   ],
   "source": [
    "#Image corresponding to the 1st basis vector.\n",
    "fig=plt.figure(figsize=(2,2))\n",
    "plt.gca().imshow(pca.components_[0].reshape(64, 64),\n",
    "                                 cmap=\"gray\")"
   ]
  },
  {
   "cell_type": "code",
   "execution_count": 48,
   "metadata": {},
   "outputs": [
    {
     "data": {
      "text/plain": [
       "<matplotlib.image.AxesImage at 0x19886e86860>"
      ]
     },
     "execution_count": 48,
     "metadata": {},
     "output_type": "execute_result"
    },
    {
     "data": {
      "image/png": "[encoded data removed]",
      "text/plain": [
       "<matplotlib.figure.Figure at 0x19886e52a90>"
      ]
     },
     "metadata": {
      "needs_background": "light"
     },
     "output_type": "display_data"
    }
   ],
   "source": [
    "#image corresponding to the 2nd basis vector.\n",
    "fig=plt.figure(figsize=(2,2))\n",
    "plt.gca().imshow(pca.components_[1].reshape(64, 64),\n",
    "                                 cmap=\"gray\")"
   ]
  },
  {
   "cell_type": "markdown",
   "metadata": {},
   "source": [
    "8) The coordinates of the first letter `a` with respect to the above PCA basis vectors are obtained as follows:"
   ]
  },
  {
   "cell_type": "code",
   "execution_count": 49,
   "metadata": {},
   "outputs": [
    {
     "data": {
      "text/plain": [
       "array([ 2560.35577449, -2207.80661615])"
      ]
     },
     "execution_count": 49,
     "metadata": {},
     "output_type": "execute_result"
    }
   ],
   "source": [
    "letter_pca[0]"
   ]
  },
  {
   "cell_type": "markdown",
   "metadata": {},
   "source": [
    "<h4> Questions </h4>\n",
    "\n",
    "a) Explain why the original images displayed in step 4) are $64^2$ dimensional, and the PCA images displayed in step 6) are only 2 dimensional?"
   ]
  },
  {
   "cell_type": "markdown",
   "metadata": {},
   "source": [
    "b) What would happen if instead of using the PCA basis, we used two standard basis vectors for the projections  (eg. $e_1=(1,0,0,0,...,0)$ and $e_2=(0,1,0,0,...,0)$?"
   ]
  },
  {
   "cell_type": "code",
   "execution_count": null,
   "metadata": {},
   "outputs": [],
   "source": []
  }
 ],
 "metadata": {
  "kernelspec": {
   "display_name": "Python 3",
   "language": "python",
   "name": "python3"
  },
  "language_info": {
   "codemirror_mode": {
    "name": "ipython",
    "version": 3
   },
   "file_extension": ".py",
   "mimetype": "text/x-python",
   "name": "python",
   "nbconvert_exporter": "python",
   "pygments_lexer": "ipython3",
   "version": "3.6.4"
  }
 },
 "nbformat": 4,
 "nbformat_minor": 2
}
