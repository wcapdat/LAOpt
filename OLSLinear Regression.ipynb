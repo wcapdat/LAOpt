{
 "cells": [
  {
   "cell_type": "code",
   "execution_count": null,
   "metadata": {},
   "outputs": [],
   "source": []
  },
  {
   "cell_type": "markdown",
   "metadata": {},
   "source": [
    "Import libraries."
   ]
  },
  {
   "cell_type": "code",
   "execution_count": 1,
   "metadata": {},
   "outputs": [],
   "source": [
    "import numpy as np\n",
    "import pandas as pd\n",
    "import matplotlib.pyplot as plt\n",
    "from sklearn.linear_model import LinearRegression"
   ]
  },
  {
   "cell_type": "markdown",
   "metadata": {},
   "source": [
    "<h2> 1. Example</h2>\n",
    "<h3> OLS Regression of ACT Scores and College Eligibility</h3>\n",
    "Datafile: ACTCollegeEligible.csv"
   ]
  },
  {
   "cell_type": "markdown",
   "metadata": {},
   "source": [
    "1) Import Libraries, dropping rows with missing data."
   ]
  },
  {
   "cell_type": "code",
   "execution_count": 2,
   "metadata": {},
   "outputs": [
    {
     "data": {
      "text/html": [
       "<div>\n",
       "<style scoped>\n",
       "    .dataframe tbody tr th:only-of-type {\n",
       "        vertical-align: middle;\n",
       "    }\n",
       "\n",
       "    .dataframe tbody tr th {\n",
       "        vertical-align: top;\n",
       "    }\n",
       "\n",
       "    .dataframe thead th {\n",
       "        text-align: right;\n",
       "    }\n",
       "</style>\n",
       "<table border=\"1\" class=\"dataframe\">\n",
       "  <thead>\n",
       "    <tr style=\"text-align: right;\">\n",
       "      <th></th>\n",
       "      <th>School Name</th>\n",
       "      <th>Street Address</th>\n",
       "      <th>ZIP</th>\n",
       "      <th>Average Score ACT 2012</th>\n",
       "      <th>5-Year Cohort Graduation Rate 2012 - Percent</th>\n",
       "      <th>One-Year Dropout Rate 2012 - Percent</th>\n",
       "      <th>Freshman On-Track to Graduate 2012 - Percent</th>\n",
       "      <th>College Eligibility 2012 - Percent</th>\n",
       "      <th>College Enrollment 2012 - Percent</th>\n",
       "      <th>College Retention 2010 - Percent</th>\n",
       "      <th>Misconducts Resulting in Suspensions 2012 - Percent</th>\n",
       "      <th>Average Days of Suspension 2012</th>\n",
       "      <th>Student Attendance 2012 - Percent</th>\n",
       "      <th>Teacher Attendance 2012 - Percent</th>\n",
       "      <th>X Coordinate</th>\n",
       "      <th>Y Coordinate</th>\n",
       "      <th>Longitude</th>\n",
       "      <th>Latitude</th>\n",
       "      <th>Location</th>\n",
       "    </tr>\n",
       "  </thead>\n",
       "  <tbody>\n",
       "    <tr>\n",
       "      <th>0</th>\n",
       "      <td>Chicago Academy High School</td>\n",
       "      <td>3400 N Austin Ave</td>\n",
       "      <td>60634</td>\n",
       "      <td>19.3</td>\n",
       "      <td>71.0</td>\n",
       "      <td>4.0</td>\n",
       "      <td>82.2</td>\n",
       "      <td>35.2</td>\n",
       "      <td>75.8</td>\n",
       "      <td>71.0</td>\n",
       "      <td>4.5</td>\n",
       "      <td>2.6</td>\n",
       "      <td>93.6</td>\n",
       "      <td>95.6</td>\n",
       "      <td>1135740.091</td>\n",
       "      <td>1922002.941</td>\n",
       "      <td>-87.776506</td>\n",
       "      <td>41.942154</td>\n",
       "      <td>(-87.77650575, 41.94215439)</td>\n",
       "    </tr>\n",
       "    <tr>\n",
       "      <th>3</th>\n",
       "      <td>William Jones College Preparatory High School</td>\n",
       "      <td>606 S State St</td>\n",
       "      <td>60605</td>\n",
       "      <td>25.1</td>\n",
       "      <td>87.1</td>\n",
       "      <td>1.5</td>\n",
       "      <td>98.0</td>\n",
       "      <td>80.7</td>\n",
       "      <td>92.2</td>\n",
       "      <td>90.8</td>\n",
       "      <td>10.6</td>\n",
       "      <td>4.5</td>\n",
       "      <td>93.9</td>\n",
       "      <td>95.3</td>\n",
       "      <td>1176412.354</td>\n",
       "      <td>1897618.088</td>\n",
       "      <td>-87.627755</td>\n",
       "      <td>41.874419</td>\n",
       "      <td>(-87.62775497, 41.87441898)</td>\n",
       "    </tr>\n",
       "  </tbody>\n",
       "</table>\n",
       "</div>"
      ],
      "text/plain": [
       "                                     School Name     Street Address    ZIP  \\\n",
       "0                    Chicago Academy High School  3400 N Austin Ave  60634   \n",
       "3  William Jones College Preparatory High School     606 S State St  60605   \n",
       "\n",
       "   Average Score ACT 2012  5-Year Cohort Graduation Rate 2012 - Percent  \\\n",
       "0                    19.3                                          71.0   \n",
       "3                    25.1                                          87.1   \n",
       "\n",
       "   One-Year Dropout Rate 2012 - Percent  \\\n",
       "0                                   4.0   \n",
       "3                                   1.5   \n",
       "\n",
       "   Freshman On-Track to Graduate 2012 - Percent  \\\n",
       "0                                          82.2   \n",
       "3                                          98.0   \n",
       "\n",
       "   College Eligibility 2012 - Percent  College Enrollment 2012 - Percent  \\\n",
       "0                                35.2                               75.8   \n",
       "3                                80.7                               92.2   \n",
       "\n",
       "   College Retention 2010 - Percent  \\\n",
       "0                              71.0   \n",
       "3                              90.8   \n",
       "\n",
       "   Misconducts Resulting in Suspensions 2012 - Percent  \\\n",
       "0                                                4.5     \n",
       "3                                               10.6     \n",
       "\n",
       "   Average Days of Suspension 2012  Student Attendance 2012 - Percent  \\\n",
       "0                              2.6                               93.6   \n",
       "3                              4.5                               93.9   \n",
       "\n",
       "   Teacher Attendance 2012 - Percent  X Coordinate  Y Coordinate  Longitude  \\\n",
       "0                               95.6   1135740.091   1922002.941 -87.776506   \n",
       "3                               95.3   1176412.354   1897618.088 -87.627755   \n",
       "\n",
       "    Latitude                     Location  \n",
       "0  41.942154  (-87.77650575, 41.94215439)  \n",
       "3  41.874419  (-87.62775497, 41.87441898)  "
      ]
     },
     "execution_count": 2,
     "metadata": {},
     "output_type": "execute_result"
    }
   ],
   "source": [
    "df=pd.read_csv(\"ACTCollegeEligible.csv\")\n",
    "df=df.dropna()\n",
    "df.head(2)"
   ]
  },
  {
   "cell_type": "markdown",
   "metadata": {},
   "source": [
    "2) Specify the x and y coordinates of the points to be plotted."
   ]
  },
  {
   "cell_type": "code",
   "execution_count": 3,
   "metadata": {},
   "outputs": [],
   "source": [
    "X=df[[\"Average Score ACT 2012\"]]\n",
    "Y=df[[\"College Eligibility 2012 - Percent\"]]"
   ]
  },
  {
   "cell_type": "markdown",
   "metadata": {},
   "source": [
    "3)  Create the OLS regression model."
   ]
  },
  {
   "cell_type": "code",
   "execution_count": 4,
   "metadata": {},
   "outputs": [
    {
     "name": "stdout",
     "output_type": "stream",
     "text": [
      "OLS regression line y=mx+b\n",
      "slope m= [[6.09611136]]\n",
      "intercept b= [-80.78259412]\n"
     ]
    }
   ],
   "source": [
    "OLSmodel = LinearRegression()\n",
    "OLSmodel.fit(X, Y)\n",
    "print(\"OLS regression line y=mx+b\")\n",
    "print(\"slope m=\",OLSmodel.coef_)\n",
    "print(\"intercept b=\",OLSmodel.intercept_)"
   ]
  },
  {
   "cell_type": "markdown",
   "metadata": {},
   "source": [
    "4) Make the scatterplot with regression line."
   ]
  },
  {
   "cell_type": "code",
   "execution_count": 5,
   "metadata": {},
   "outputs": [
    {
     "name": "stdout",
     "output_type": "stream",
     "text": [
      "Intercept is  [-80.78259412]\n",
      "Slope is  [[6.09611136]]\n",
      "R^2 for OLS is  0.9351396968249491\n"
     ]
    },
    {
     "data": {
      "image/png": "[encoded data removed]",
      "text/plain": [
       "<matplotlib.figure.Figure at 0x23618a20c88>"
      ]
     },
     "metadata": {
      "needs_background": "light"
     },
     "output_type": "display_data"
    }
   ],
   "source": [
    "from sklearn.linear_model import LinearRegression #sklearn is a machine learning library\n",
    "X=df[[\"Average Score ACT 2012\"]]\n",
    "Y=df[[\"College Eligibility 2012 - Percent\"]]\n",
    "reg=LinearRegression()\n",
    "reg.fit(X,Y)\n",
    "print(\"Intercept is \", reg.intercept_)\n",
    "print(\"Slope is \", reg.coef_)\n",
    "print(\"R^2 for OLS is \", reg.score(X,Y))\n",
    "# x values on the regression line will be between 13.5 and 30 \n",
    "x = np.linspace(13.5, 30 ,100) \n",
    "# define the regression line y = mx+b here\n",
    "[[m]]=reg.coef_\n",
    "[b]=reg.intercept_\n",
    "y =  m*x  + b   \n",
    "#plot the data points \n",
    "fig=df.plot(x=\"Average Score ACT 2012\", y=\"College Eligibility 2012 - Percent\", style='o')  \n",
    "plt.xlabel(\"Average Score ACT 2012\")  \n",
    "plt.ylabel(\"College Eligibility 2012 - Percent\")  \n",
    "# plot the regression line \n",
    "plt.plot(x,y, 'k') #add the color for red\n",
    "plt.legend([],[], frameon=True)\n",
    "plt.grid()\n",
    "plt.show()"
   ]
  },
  {
   "cell_type": "markdown",
   "metadata": {},
   "source": [
    "<h2> 2. Exercise </h2>\n",
    "<h3> Linear Regression of Chicago Public School Data </h3>\n",
    "\n",
    "Data File:  Imported directly from the Chicago data portal in Step 1."
   ]
  },
  {
   "cell_type": "markdown",
   "metadata": {},
   "source": [
    "1) Let's begin by executing the following cell to retrieve a Chicago Public School (CPS) dataset."
   ]
  },
  {
   "cell_type": "code",
   "execution_count": 6,
   "metadata": {},
   "outputs": [
    {
     "data": {
      "text/html": [
       "<div>\n",
       "<style scoped>\n",
       "    .dataframe tbody tr th:only-of-type {\n",
       "        vertical-align: middle;\n",
       "    }\n",
       "\n",
       "    .dataframe tbody tr th {\n",
       "        vertical-align: top;\n",
       "    }\n",
       "\n",
       "    .dataframe thead th {\n",
       "        text-align: right;\n",
       "    }\n",
       "</style>\n",
       "<table border=\"1\" class=\"dataframe\">\n",
       "  <thead>\n",
       "    <tr style=\"text-align: right;\">\n",
       "      <th></th>\n",
       "      <th>address</th>\n",
       "      <th>administrator</th>\n",
       "      <th>administrator_title</th>\n",
       "      <th>after_school_hours</th>\n",
       "      <th>attendance_boundaries</th>\n",
       "      <th>bilingual_services</th>\n",
       "      <th>city</th>\n",
       "      <th>classification_description</th>\n",
       "      <th>classroom_languages</th>\n",
       "      <th>college_enrollment_rate_mean</th>\n",
       "      <th>...</th>\n",
       "      <th>third_contact_title</th>\n",
       "      <th>title_1_eligible</th>\n",
       "      <th>transportation_bus</th>\n",
       "      <th>transportation_el</th>\n",
       "      <th>transportation_metra</th>\n",
       "      <th>twitter</th>\n",
       "      <th>visual_impairments</th>\n",
       "      <th>website</th>\n",
       "      <th>youtube</th>\n",
       "      <th>zip</th>\n",
       "    </tr>\n",
       "  </thead>\n",
       "  <tbody>\n",
       "    <tr>\n",
       "      <th>0</th>\n",
       "      <td>2819 W 21ST PL</td>\n",
       "      <td>Ms.Anamaria Orbe</td>\n",
       "      <td>Principal</td>\n",
       "      <td>2:30 pm - 5:30 pm</td>\n",
       "      <td>True</td>\n",
       "      <td>1.0</td>\n",
       "      <td>Chicago</td>\n",
       "      <td>Schools that have an attendance boundary. Gene...</td>\n",
       "      <td>Spanish</td>\n",
       "      <td>NaN</td>\n",
       "      <td>...</td>\n",
       "      <td>Clerk</td>\n",
       "      <td>1.0</td>\n",
       "      <td>21, 94</td>\n",
       "      <td>Pink</td>\n",
       "      <td>NaN</td>\n",
       "      <td>NaN</td>\n",
       "      <td>NaN</td>\n",
       "      <td>https://cps.edu/hammond</td>\n",
       "      <td>NaN</td>\n",
       "      <td>60623</td>\n",
       "    </tr>\n",
       "    <tr>\n",
       "      <th>1</th>\n",
       "      <td>620 N SAWYER AVE</td>\n",
       "      <td>Michelle Navarre</td>\n",
       "      <td>Director</td>\n",
       "      <td>4:00 pm-6:00 pm</td>\n",
       "      <td>False</td>\n",
       "      <td>NaN</td>\n",
       "      <td>Chicago</td>\n",
       "      <td>Schools that are open to all Chicago children,...</td>\n",
       "      <td>NaN</td>\n",
       "      <td>NaN</td>\n",
       "      <td>...</td>\n",
       "      <td>Office Manager</td>\n",
       "      <td>1.0</td>\n",
       "      <td>NaN</td>\n",
       "      <td>NaN</td>\n",
       "      <td>NaN</td>\n",
       "      <td>https://twitter.com/PolarisCA</td>\n",
       "      <td>NaN</td>\n",
       "      <td>https://pcachicago.org</td>\n",
       "      <td>https://www.youtube.com/channel/UCHblvjecJ7Bp2...</td>\n",
       "      <td>60624</td>\n",
       "    </tr>\n",
       "    <tr>\n",
       "      <th>2</th>\n",
       "      <td>6239 N LEAVITT ST</td>\n",
       "      <td>James Joseph Brandon</td>\n",
       "      <td>Principal</td>\n",
       "      <td>NaN</td>\n",
       "      <td>False</td>\n",
       "      <td>1.0</td>\n",
       "      <td>Chicago</td>\n",
       "      <td>Schools that specialize in a specific subject ...</td>\n",
       "      <td>NaN</td>\n",
       "      <td>NaN</td>\n",
       "      <td>...</td>\n",
       "      <td>NaN</td>\n",
       "      <td>0.0</td>\n",
       "      <td>49B, 84</td>\n",
       "      <td>Brown</td>\n",
       "      <td>NaN</td>\n",
       "      <td>NaN</td>\n",
       "      <td>NaN</td>\n",
       "      <td>http://stoneacademy.net/</td>\n",
       "      <td>NaN</td>\n",
       "      <td>60659</td>\n",
       "    </tr>\n",
       "    <tr>\n",
       "      <th>3</th>\n",
       "      <td>3124 W 47TH ST</td>\n",
       "      <td>Nicholas F Perez</td>\n",
       "      <td>Principal</td>\n",
       "      <td>NaN</td>\n",
       "      <td>False</td>\n",
       "      <td>NaN</td>\n",
       "      <td>Chicago</td>\n",
       "      <td>Schools that have their own processes for enro...</td>\n",
       "      <td>NaN</td>\n",
       "      <td>67.2</td>\n",
       "      <td>...</td>\n",
       "      <td>NaN</td>\n",
       "      <td>NaN</td>\n",
       "      <td>NaN</td>\n",
       "      <td>NaN</td>\n",
       "      <td>NaN</td>\n",
       "      <td>https://twitter.com/pathwaysil</td>\n",
       "      <td>NaN</td>\n",
       "      <td>https://pathwaysineducation.org</td>\n",
       "      <td>NaN</td>\n",
       "      <td>60632</td>\n",
       "    </tr>\n",
       "    <tr>\n",
       "      <th>4</th>\n",
       "      <td>8716 S WALLACE ST</td>\n",
       "      <td>Aaron Rucker</td>\n",
       "      <td>Principal</td>\n",
       "      <td>NaN</td>\n",
       "      <td>True</td>\n",
       "      <td>NaN</td>\n",
       "      <td>Chicago</td>\n",
       "      <td>Schools that have an attendance boundary. Gene...</td>\n",
       "      <td>NaN</td>\n",
       "      <td>NaN</td>\n",
       "      <td>...</td>\n",
       "      <td>Technology Coordinator</td>\n",
       "      <td>1.0</td>\n",
       "      <td>24, 87</td>\n",
       "      <td>Red</td>\n",
       "      <td>Rock Island District (RI)</td>\n",
       "      <td>NaN</td>\n",
       "      <td>NaN</td>\n",
       "      <td>https://ryderschool.org</td>\n",
       "      <td>NaN</td>\n",
       "      <td>60620</td>\n",
       "    </tr>\n",
       "  </tbody>\n",
       "</table>\n",
       "<p>5 rows × 92 columns</p>\n",
       "</div>"
      ],
      "text/plain": [
       "             address         administrator administrator_title  \\\n",
       "0     2819 W 21ST PL      Ms.Anamaria Orbe           Principal   \n",
       "1   620 N SAWYER AVE      Michelle Navarre            Director   \n",
       "2  6239 N LEAVITT ST  James Joseph Brandon           Principal   \n",
       "3     3124 W 47TH ST      Nicholas F Perez           Principal   \n",
       "4  8716 S WALLACE ST          Aaron Rucker           Principal   \n",
       "\n",
       "  after_school_hours  attendance_boundaries  bilingual_services     city  \\\n",
       "0  2:30 pm - 5:30 pm                   True                 1.0  Chicago   \n",
       "1    4:00 pm-6:00 pm                  False                 NaN  Chicago   \n",
       "2                NaN                  False                 1.0  Chicago   \n",
       "3                NaN                  False                 NaN  Chicago   \n",
       "4                NaN                   True                 NaN  Chicago   \n",
       "\n",
       "                          classification_description classroom_languages  \\\n",
       "0  Schools that have an attendance boundary. Gene...             Spanish   \n",
       "1  Schools that are open to all Chicago children,...                 NaN   \n",
       "2  Schools that specialize in a specific subject ...                 NaN   \n",
       "3  Schools that have their own processes for enro...                 NaN   \n",
       "4  Schools that have an attendance boundary. Gene...                 NaN   \n",
       "\n",
       "   college_enrollment_rate_mean  ...       third_contact_title  \\\n",
       "0                           NaN  ...                     Clerk   \n",
       "1                           NaN  ...            Office Manager   \n",
       "2                           NaN  ...                       NaN   \n",
       "3                          67.2  ...                       NaN   \n",
       "4                           NaN  ...    Technology Coordinator   \n",
       "\n",
       "  title_1_eligible transportation_bus  transportation_el  \\\n",
       "0              1.0             21, 94               Pink   \n",
       "1              1.0                NaN                NaN   \n",
       "2              0.0            49B, 84              Brown   \n",
       "3              NaN                NaN                NaN   \n",
       "4              1.0             24, 87                Red   \n",
       "\n",
       "        transportation_metra                         twitter  \\\n",
       "0                        NaN                             NaN   \n",
       "1                        NaN   https://twitter.com/PolarisCA   \n",
       "2                        NaN                             NaN   \n",
       "3                        NaN  https://twitter.com/pathwaysil   \n",
       "4  Rock Island District (RI)                             NaN   \n",
       "\n",
       "   visual_impairments                          website  \\\n",
       "0                 NaN          https://cps.edu/hammond   \n",
       "1                 NaN           https://pcachicago.org   \n",
       "2                 NaN         http://stoneacademy.net/   \n",
       "3                 NaN  https://pathwaysineducation.org   \n",
       "4                 NaN          https://ryderschool.org   \n",
       "\n",
       "                                             youtube    zip  \n",
       "0                                                NaN  60623  \n",
       "1  https://www.youtube.com/channel/UCHblvjecJ7Bp2...  60624  \n",
       "2                                                NaN  60659  \n",
       "3                                                NaN  60632  \n",
       "4                                                NaN  60620  \n",
       "\n",
       "[5 rows x 92 columns]"
      ]
     },
     "execution_count": 6,
     "metadata": {},
     "output_type": "execute_result"
    }
   ],
   "source": [
    "import pandas as pd\n",
    "import numpy as np\n",
    "raw_CPS_data=  pd.read_json('https://data.cityofchicago.org/resource/kh4r-387c.json?$limit=100000')\n",
    "raw_CPS_data.head() "
   ]
  },
  {
   "cell_type": "markdown",
   "metadata": {},
   "source": [
    "2) Let's get the column names"
   ]
  },
  {
   "cell_type": "code",
   "execution_count": 7,
   "metadata": {},
   "outputs": [
    {
     "data": {
      "text/plain": [
       "Index(['address', 'administrator', 'administrator_title', 'after_school_hours',\n",
       "       'attendance_boundaries', 'bilingual_services', 'city',\n",
       "       'classification_description', 'classroom_languages',\n",
       "       'college_enrollment_rate_mean', 'college_enrollment_rate_school',\n",
       "       'cps_school_profile', 'demographic_description', 'dress_code',\n",
       "       'earliest_drop_off_time', 'facebook', 'fax', 'fifth_contact_name',\n",
       "       'fifth_contact_title', 'finance_id', 'fourth_contact_name',\n",
       "       'fourth_contact_title', 'freshman_start_end_time', 'grades_offered',\n",
       "       'grades_offered_all', 'graduation_rate_mean', 'graduation_rate_school',\n",
       "       'hard_of_hearing', 'is_elementary_school', 'is_gocps_elementary',\n",
       "       'is_gocps_high_school', 'is_gocps_participant', 'is_gocps_prek',\n",
       "       'is_high_school', 'is_middle_school', 'is_pre_school',\n",
       "       'kindergarten_school_day', 'legacy_unit_id', 'long_name', 'network',\n",
       "       'open_for_enrollment_date', 'overall_rating', 'phone', 'pinterest',\n",
       "       'prek_school_day', 'preschool_inclusive', 'preschool_instructional',\n",
       "       'primary_category', 'rating_statement', 'rating_status',\n",
       "       'refugee_services', 'school_hours', 'school_id', 'school_latitude',\n",
       "       'school_longitude', 'school_year', 'secondary_contact',\n",
       "       'secondary_contact_title', 'seventh_contact_name',\n",
       "       'seventh_contact_title', 'short_name', 'significantly_modified',\n",
       "       'sixth_contact_name', 'sixth_contact_title', 'state',\n",
       "       'statistics_description', 'student_count_asian',\n",
       "       'student_count_asian_pacific', 'student_count_black',\n",
       "       'student_count_english_learners', 'student_count_ethnicity_not',\n",
       "       'student_count_hawaiian_pacific', 'student_count_hispanic',\n",
       "       'student_count_low_income', 'student_count_multi',\n",
       "       'student_count_native_american', 'student_count_other_ethnicity',\n",
       "       'student_count_special_ed', 'student_count_total',\n",
       "       'student_count_white', 'summary', 'third_contact_name',\n",
       "       'third_contact_title', 'title_1_eligible', 'transportation_bus',\n",
       "       'transportation_el', 'transportation_metra', 'twitter',\n",
       "       'visual_impairments', 'website', 'youtube', 'zip'],\n",
       "      dtype='object')"
      ]
     },
     "execution_count": 7,
     "metadata": {},
     "output_type": "execute_result"
    }
   ],
   "source": [
    "raw_CPS_data.columns"
   ]
  },
  {
   "cell_type": "markdown",
   "metadata": {},
   "source": [
    "3) Let's find the number of rows in each column which have data using a command of the form df.count()."
   ]
  },
  {
   "cell_type": "code",
   "execution_count": 8,
   "metadata": {},
   "outputs": [
    {
     "data": {
      "text/plain": [
       "address                           654\n",
       "administrator                     649\n",
       "administrator_title               654\n",
       "after_school_hours                317\n",
       "attendance_boundaries             654\n",
       "bilingual_services                382\n",
       "city                              654\n",
       "classification_description        654\n",
       "classroom_languages               290\n",
       "college_enrollment_rate_mean      166\n",
       "college_enrollment_rate_school    166\n",
       "cps_school_profile                654\n",
       "demographic_description           654\n",
       "dress_code                        652\n",
       "earliest_drop_off_time            437\n",
       "facebook                          271\n",
       "fax                               648\n",
       "fifth_contact_name                 90\n",
       "fifth_contact_title                91\n",
       "finance_id                        654\n",
       "fourth_contact_name               157\n",
       "fourth_contact_title              158\n",
       "freshman_start_end_time           101\n",
       "grades_offered                    654\n",
       "grades_offered_all                654\n",
       "graduation_rate_mean              142\n",
       "graduation_rate_school            142\n",
       "hard_of_hearing                    13\n",
       "is_elementary_school              654\n",
       "is_gocps_elementary               653\n",
       "                                 ... \n",
       "sixth_contact_name                 45\n",
       "sixth_contact_title                45\n",
       "state                             654\n",
       "statistics_description            652\n",
       "student_count_asian               654\n",
       "student_count_asian_pacific       654\n",
       "student_count_black               654\n",
       "student_count_english_learners    654\n",
       "student_count_ethnicity_not       654\n",
       "student_count_hawaiian_pacific    654\n",
       "student_count_hispanic            654\n",
       "student_count_low_income          654\n",
       "student_count_multi               654\n",
       "student_count_native_american     654\n",
       "student_count_other_ethnicity     654\n",
       "student_count_special_ed          654\n",
       "student_count_total               654\n",
       "student_count_white               654\n",
       "summary                           644\n",
       "third_contact_name                286\n",
       "third_contact_title               292\n",
       "title_1_eligible                  639\n",
       "transportation_bus                557\n",
       "transportation_el                 405\n",
       "transportation_metra              110\n",
       "twitter                           272\n",
       "visual_impairments                  6\n",
       "website                           651\n",
       "youtube                            52\n",
       "zip                               654\n",
       "Length: 92, dtype: int64"
      ]
     },
     "execution_count": 8,
     "metadata": {},
     "output_type": "execute_result"
    }
   ],
   "source": [
    "raw_CPS_data.count()"
   ]
  },
  {
   "cell_type": "markdown",
   "metadata": {},
   "source": [
    "4) Let's check what entries there are in the 'grades_offered' column."
   ]
  },
  {
   "cell_type": "code",
   "execution_count": 9,
   "metadata": {},
   "outputs": [
    {
     "data": {
      "text/plain": [
       "PK,K-8       327\n",
       "9-12         144\n",
       "K-8           82\n",
       "7-12          11\n",
       "PK,K-6        10\n",
       "PK,K-5        10\n",
       "6-12           9\n",
       "K-6            8\n",
       "6-8            6\n",
       "PE,PK,K-8      4\n",
       "11-12          4\n",
       "K-12           4\n",
       "PK,K-4         4\n",
       "PK,K-3         3\n",
       "K-5            3\n",
       "PK             3\n",
       "5-8            3\n",
       "PK,K-2         2\n",
       "8-12           2\n",
       "7-8            2\n",
       "K-2            1\n",
       "K-1,5-8        1\n",
       "3-12           1\n",
       "9              1\n",
       "4-8            1\n",
       "K-3,5-8        1\n",
       "PK,3-8         1\n",
       "1-8            1\n",
       "K-3            1\n",
       "10-12          1\n",
       "K,4-8          1\n",
       "PK,K-7         1\n",
       "4-11           1\n",
       "Name: grades_offered, dtype: int64"
      ]
     },
     "execution_count": 9,
     "metadata": {},
     "output_type": "execute_result"
    }
   ],
   "source": [
    "raw_CPS_data['grades_offered'].value_counts()"
   ]
  },
  {
   "cell_type": "markdown",
   "metadata": {},
   "source": [
    "5) Let's create a dataframe called mid with just the data for PK,K-8 "
   ]
  },
  {
   "cell_type": "code",
   "execution_count": 10,
   "metadata": {},
   "outputs": [
    {
     "data": {
      "text/html": [
       "<div>\n",
       "<style scoped>\n",
       "    .dataframe tbody tr th:only-of-type {\n",
       "        vertical-align: middle;\n",
       "    }\n",
       "\n",
       "    .dataframe tbody tr th {\n",
       "        vertical-align: top;\n",
       "    }\n",
       "\n",
       "    .dataframe thead th {\n",
       "        text-align: right;\n",
       "    }\n",
       "</style>\n",
       "<table border=\"1\" class=\"dataframe\">\n",
       "  <thead>\n",
       "    <tr style=\"text-align: right;\">\n",
       "      <th></th>\n",
       "      <th>address</th>\n",
       "      <th>administrator</th>\n",
       "      <th>administrator_title</th>\n",
       "      <th>after_school_hours</th>\n",
       "      <th>attendance_boundaries</th>\n",
       "      <th>bilingual_services</th>\n",
       "      <th>city</th>\n",
       "      <th>classification_description</th>\n",
       "      <th>classroom_languages</th>\n",
       "      <th>college_enrollment_rate_mean</th>\n",
       "      <th>...</th>\n",
       "      <th>third_contact_title</th>\n",
       "      <th>title_1_eligible</th>\n",
       "      <th>transportation_bus</th>\n",
       "      <th>transportation_el</th>\n",
       "      <th>transportation_metra</th>\n",
       "      <th>twitter</th>\n",
       "      <th>visual_impairments</th>\n",
       "      <th>website</th>\n",
       "      <th>youtube</th>\n",
       "      <th>zip</th>\n",
       "    </tr>\n",
       "  </thead>\n",
       "  <tbody>\n",
       "    <tr>\n",
       "      <th>0</th>\n",
       "      <td>2819 W 21ST PL</td>\n",
       "      <td>Ms.Anamaria Orbe</td>\n",
       "      <td>Principal</td>\n",
       "      <td>2:30 pm - 5:30 pm</td>\n",
       "      <td>True</td>\n",
       "      <td>1.0</td>\n",
       "      <td>Chicago</td>\n",
       "      <td>Schools that have an attendance boundary. Gene...</td>\n",
       "      <td>Spanish</td>\n",
       "      <td>NaN</td>\n",
       "      <td>...</td>\n",
       "      <td>Clerk</td>\n",
       "      <td>1.0</td>\n",
       "      <td>21, 94</td>\n",
       "      <td>Pink</td>\n",
       "      <td>NaN</td>\n",
       "      <td>NaN</td>\n",
       "      <td>NaN</td>\n",
       "      <td>https://cps.edu/hammond</td>\n",
       "      <td>NaN</td>\n",
       "      <td>60623</td>\n",
       "    </tr>\n",
       "    <tr>\n",
       "      <th>4</th>\n",
       "      <td>8716 S WALLACE ST</td>\n",
       "      <td>Aaron Rucker</td>\n",
       "      <td>Principal</td>\n",
       "      <td>NaN</td>\n",
       "      <td>True</td>\n",
       "      <td>NaN</td>\n",
       "      <td>Chicago</td>\n",
       "      <td>Schools that have an attendance boundary. Gene...</td>\n",
       "      <td>NaN</td>\n",
       "      <td>NaN</td>\n",
       "      <td>...</td>\n",
       "      <td>Technology Coordinator</td>\n",
       "      <td>1.0</td>\n",
       "      <td>24, 87</td>\n",
       "      <td>Red</td>\n",
       "      <td>Rock Island District (RI)</td>\n",
       "      <td>NaN</td>\n",
       "      <td>NaN</td>\n",
       "      <td>https://ryderschool.org</td>\n",
       "      <td>NaN</td>\n",
       "      <td>60620</td>\n",
       "    </tr>\n",
       "  </tbody>\n",
       "</table>\n",
       "<p>2 rows × 92 columns</p>\n",
       "</div>"
      ],
      "text/plain": [
       "             address     administrator administrator_title after_school_hours  \\\n",
       "0     2819 W 21ST PL  Ms.Anamaria Orbe           Principal  2:30 pm - 5:30 pm   \n",
       "4  8716 S WALLACE ST      Aaron Rucker           Principal                NaN   \n",
       "\n",
       "   attendance_boundaries  bilingual_services     city  \\\n",
       "0                   True                 1.0  Chicago   \n",
       "4                   True                 NaN  Chicago   \n",
       "\n",
       "                          classification_description classroom_languages  \\\n",
       "0  Schools that have an attendance boundary. Gene...             Spanish   \n",
       "4  Schools that have an attendance boundary. Gene...                 NaN   \n",
       "\n",
       "   college_enrollment_rate_mean  ...       third_contact_title  \\\n",
       "0                           NaN  ...                     Clerk   \n",
       "4                           NaN  ...    Technology Coordinator   \n",
       "\n",
       "  title_1_eligible transportation_bus  transportation_el  \\\n",
       "0              1.0             21, 94               Pink   \n",
       "4              1.0             24, 87                Red   \n",
       "\n",
       "        transportation_metra twitter  visual_impairments  \\\n",
       "0                        NaN     NaN                 NaN   \n",
       "4  Rock Island District (RI)     NaN                 NaN   \n",
       "\n",
       "                   website youtube    zip  \n",
       "0  https://cps.edu/hammond     NaN  60623  \n",
       "4  https://ryderschool.org     NaN  60620  \n",
       "\n",
       "[2 rows x 92 columns]"
      ]
     },
     "execution_count": 10,
     "metadata": {},
     "output_type": "execute_result"
    }
   ],
   "source": [
    "mid=raw_CPS_data[raw_CPS_data['grades_offered']=='PK,K-8']\n",
    "mid.head(2)"
   ]
  },
  {
   "cell_type": "markdown",
   "metadata": {},
   "source": [
    "6) Let's streamline the data to a dataframe df which includes just the columns ['address','student_count_total','student_count_black','student_count_hispanic','student_count_white','zip']"
   ]
  },
  {
   "cell_type": "code",
   "execution_count": 11,
   "metadata": {},
   "outputs": [
    {
     "data": {
      "text/html": [
       "<div>\n",
       "<style scoped>\n",
       "    .dataframe tbody tr th:only-of-type {\n",
       "        vertical-align: middle;\n",
       "    }\n",
       "\n",
       "    .dataframe tbody tr th {\n",
       "        vertical-align: top;\n",
       "    }\n",
       "\n",
       "    .dataframe thead th {\n",
       "        text-align: right;\n",
       "    }\n",
       "</style>\n",
       "<table border=\"1\" class=\"dataframe\">\n",
       "  <thead>\n",
       "    <tr style=\"text-align: right;\">\n",
       "      <th></th>\n",
       "      <th>address</th>\n",
       "      <th>student_count_total</th>\n",
       "      <th>student_count_black</th>\n",
       "      <th>student_count_hispanic</th>\n",
       "      <th>student_count_white</th>\n",
       "      <th>zip</th>\n",
       "    </tr>\n",
       "  </thead>\n",
       "  <tbody>\n",
       "    <tr>\n",
       "      <th>0</th>\n",
       "      <td>2819 W 21ST PL</td>\n",
       "      <td>342</td>\n",
       "      <td>33</td>\n",
       "      <td>304</td>\n",
       "      <td>2</td>\n",
       "      <td>60623</td>\n",
       "    </tr>\n",
       "    <tr>\n",
       "      <th>1</th>\n",
       "      <td>620 N SAWYER AVE</td>\n",
       "      <td>378</td>\n",
       "      <td>337</td>\n",
       "      <td>33</td>\n",
       "      <td>5</td>\n",
       "      <td>60624</td>\n",
       "    </tr>\n",
       "  </tbody>\n",
       "</table>\n",
       "</div>"
      ],
      "text/plain": [
       "            address  student_count_total  student_count_black  \\\n",
       "0    2819 W 21ST PL                  342                   33   \n",
       "1  620 N SAWYER AVE                  378                  337   \n",
       "\n",
       "   student_count_hispanic  student_count_white    zip  \n",
       "0                     304                    2  60623  \n",
       "1                      33                    5  60624  "
      ]
     },
     "execution_count": 11,
     "metadata": {},
     "output_type": "execute_result"
    }
   ],
   "source": [
    "df=raw_CPS_data[['address','student_count_total','student_count_black','student_count_hispanic','student_count_white','zip']]\n",
    "df.head(2)"
   ]
  },
  {
   "cell_type": "markdown",
   "metadata": {},
   "source": [
    "7) Let's get all the schools with zip 60623"
   ]
  },
  {
   "cell_type": "code",
   "execution_count": 12,
   "metadata": {},
   "outputs": [
    {
     "data": {
      "text/html": [
       "<div>\n",
       "<style scoped>\n",
       "    .dataframe tbody tr th:only-of-type {\n",
       "        vertical-align: middle;\n",
       "    }\n",
       "\n",
       "    .dataframe tbody tr th {\n",
       "        vertical-align: top;\n",
       "    }\n",
       "\n",
       "    .dataframe thead th {\n",
       "        text-align: right;\n",
       "    }\n",
       "</style>\n",
       "<table border=\"1\" class=\"dataframe\">\n",
       "  <thead>\n",
       "    <tr style=\"text-align: right;\">\n",
       "      <th></th>\n",
       "      <th>address</th>\n",
       "      <th>student_count_total</th>\n",
       "      <th>student_count_black</th>\n",
       "      <th>student_count_hispanic</th>\n",
       "      <th>student_count_white</th>\n",
       "      <th>zip</th>\n",
       "    </tr>\n",
       "  </thead>\n",
       "  <tbody>\n",
       "    <tr>\n",
       "      <th>0</th>\n",
       "      <td>2819 W 21ST PL</td>\n",
       "      <td>342</td>\n",
       "      <td>33</td>\n",
       "      <td>304</td>\n",
       "      <td>2</td>\n",
       "      <td>60623</td>\n",
       "    </tr>\n",
       "    <tr>\n",
       "      <th>11</th>\n",
       "      <td>2345 S CHRISTIANA AVE</td>\n",
       "      <td>559</td>\n",
       "      <td>66</td>\n",
       "      <td>484</td>\n",
       "      <td>9</td>\n",
       "      <td>60623</td>\n",
       "    </tr>\n",
       "  </tbody>\n",
       "</table>\n",
       "</div>"
      ],
      "text/plain": [
       "                  address  student_count_total  student_count_black  \\\n",
       "0          2819 W 21ST PL                  342                   33   \n",
       "11  2345 S CHRISTIANA AVE                  559                   66   \n",
       "\n",
       "    student_count_hispanic  student_count_white    zip  \n",
       "0                      304                    2  60623  \n",
       "11                     484                    9  60623  "
      ]
     },
     "execution_count": 12,
     "metadata": {},
     "output_type": "execute_result"
    }
   ],
   "source": [
    "df23=df[df['zip']==60623]\n",
    "df23.head(2)"
   ]
  },
  {
   "cell_type": "markdown",
   "metadata": {},
   "source": [
    "7) Let's reset the index."
   ]
  },
  {
   "cell_type": "code",
   "execution_count": 13,
   "metadata": {},
   "outputs": [
    {
     "data": {
      "text/html": [
       "<div>\n",
       "<style scoped>\n",
       "    .dataframe tbody tr th:only-of-type {\n",
       "        vertical-align: middle;\n",
       "    }\n",
       "\n",
       "    .dataframe tbody tr th {\n",
       "        vertical-align: top;\n",
       "    }\n",
       "\n",
       "    .dataframe thead th {\n",
       "        text-align: right;\n",
       "    }\n",
       "</style>\n",
       "<table border=\"1\" class=\"dataframe\">\n",
       "  <thead>\n",
       "    <tr style=\"text-align: right;\">\n",
       "      <th></th>\n",
       "      <th>address</th>\n",
       "      <th>student_count_total</th>\n",
       "      <th>student_count_black</th>\n",
       "      <th>student_count_hispanic</th>\n",
       "      <th>student_count_white</th>\n",
       "      <th>zip</th>\n",
       "    </tr>\n",
       "  </thead>\n",
       "  <tbody>\n",
       "    <tr>\n",
       "      <th>0</th>\n",
       "      <td>2819 W 21ST PL</td>\n",
       "      <td>342</td>\n",
       "      <td>33</td>\n",
       "      <td>304</td>\n",
       "      <td>2</td>\n",
       "      <td>60623</td>\n",
       "    </tr>\n",
       "    <tr>\n",
       "      <th>1</th>\n",
       "      <td>2345 S CHRISTIANA AVE</td>\n",
       "      <td>559</td>\n",
       "      <td>66</td>\n",
       "      <td>484</td>\n",
       "      <td>9</td>\n",
       "      <td>60623</td>\n",
       "    </tr>\n",
       "    <tr>\n",
       "      <th>2</th>\n",
       "      <td>3500 W DOUGLAS BLVD</td>\n",
       "      <td>216</td>\n",
       "      <td>212</td>\n",
       "      <td>4</td>\n",
       "      <td>0</td>\n",
       "      <td>60623</td>\n",
       "    </tr>\n",
       "    <tr>\n",
       "      <th>3</th>\n",
       "      <td>3711 W DOUGLAS BLVD</td>\n",
       "      <td>499</td>\n",
       "      <td>480</td>\n",
       "      <td>14</td>\n",
       "      <td>3</td>\n",
       "      <td>60623</td>\n",
       "    </tr>\n",
       "    <tr>\n",
       "      <th>4</th>\n",
       "      <td>4217 W 18TH ST</td>\n",
       "      <td>316</td>\n",
       "      <td>306</td>\n",
       "      <td>10</td>\n",
       "      <td>0</td>\n",
       "      <td>60623</td>\n",
       "    </tr>\n",
       "  </tbody>\n",
       "</table>\n",
       "</div>"
      ],
      "text/plain": [
       "                 address  student_count_total  student_count_black  \\\n",
       "0         2819 W 21ST PL                  342                   33   \n",
       "1  2345 S CHRISTIANA AVE                  559                   66   \n",
       "2    3500 W DOUGLAS BLVD                  216                  212   \n",
       "3    3711 W DOUGLAS BLVD                  499                  480   \n",
       "4         4217 W 18TH ST                  316                  306   \n",
       "\n",
       "   student_count_hispanic  student_count_white    zip  \n",
       "0                     304                    2  60623  \n",
       "1                     484                    9  60623  \n",
       "2                       4                    0  60623  \n",
       "3                      14                    3  60623  \n",
       "4                      10                    0  60623  "
      ]
     },
     "execution_count": 13,
     "metadata": {},
     "output_type": "execute_result"
    }
   ],
   "source": [
    "df23=df23.reset_index(drop=True)\n",
    "df23.head(5)"
   ]
  },
  {
   "cell_type": "markdown",
   "metadata": {},
   "source": [
    "8) What is the size of the biggest CPS PK,K-8 in 60623?"
   ]
  },
  {
   "cell_type": "code",
   "execution_count": 14,
   "metadata": {},
   "outputs": [
    {
     "data": {
      "text/plain": [
       "1072"
      ]
     },
     "execution_count": 14,
     "metadata": {},
     "output_type": "execute_result"
    }
   ],
   "source": [
    "max=df23[\"student_count_total\"].max()\n",
    "max"
   ]
  },
  {
   "cell_type": "markdown",
   "metadata": {},
   "source": [
    "9) What is the size of the smallest CPS PK,K-8 in 60623?"
   ]
  },
  {
   "cell_type": "code",
   "execution_count": 15,
   "metadata": {},
   "outputs": [
    {
     "data": {
      "text/plain": [
       "96"
      ]
     },
     "execution_count": 15,
     "metadata": {},
     "output_type": "execute_result"
    }
   ],
   "source": [
    "min=df23[\"student_count_total\"].min()\n",
    "min"
   ]
  },
  {
   "cell_type": "markdown",
   "metadata": {},
   "source": [
    "10) Let's simplify the column names to [\"address\",\"total\",\"black\",\"hispanic\",\"white\"]"
   ]
  },
  {
   "cell_type": "code",
   "execution_count": 16,
   "metadata": {},
   "outputs": [
    {
     "data": {
      "text/html": [
       "<div>\n",
       "<style scoped>\n",
       "    .dataframe tbody tr th:only-of-type {\n",
       "        vertical-align: middle;\n",
       "    }\n",
       "\n",
       "    .dataframe tbody tr th {\n",
       "        vertical-align: top;\n",
       "    }\n",
       "\n",
       "    .dataframe thead th {\n",
       "        text-align: right;\n",
       "    }\n",
       "</style>\n",
       "<table border=\"1\" class=\"dataframe\">\n",
       "  <thead>\n",
       "    <tr style=\"text-align: right;\">\n",
       "      <th></th>\n",
       "      <th>address</th>\n",
       "      <th>total</th>\n",
       "      <th>black</th>\n",
       "      <th>hispanic</th>\n",
       "      <th>white</th>\n",
       "      <th>zip</th>\n",
       "    </tr>\n",
       "  </thead>\n",
       "  <tbody>\n",
       "    <tr>\n",
       "      <th>0</th>\n",
       "      <td>2819 W 21ST PL</td>\n",
       "      <td>342</td>\n",
       "      <td>33</td>\n",
       "      <td>304</td>\n",
       "      <td>2</td>\n",
       "      <td>60623</td>\n",
       "    </tr>\n",
       "  </tbody>\n",
       "</table>\n",
       "</div>"
      ],
      "text/plain": [
       "          address  total  black  hispanic  white    zip\n",
       "0  2819 W 21ST PL    342     33       304      2  60623"
      ]
     },
     "execution_count": 16,
     "metadata": {},
     "output_type": "execute_result"
    }
   ],
   "source": [
    "df23.columns= [\"address\",\"total\",\"black\",\"hispanic\",\"white\",\"zip\"]\n",
    "df23.head(1)\n"
   ]
  },
  {
   "cell_type": "markdown",
   "metadata": {},
   "source": [
    "10) Let's create 3 new columns '%black', '%hispanic', '%white'"
   ]
  },
  {
   "cell_type": "code",
   "execution_count": 17,
   "metadata": {},
   "outputs": [
    {
     "data": {
      "text/html": [
       "<div>\n",
       "<style scoped>\n",
       "    .dataframe tbody tr th:only-of-type {\n",
       "        vertical-align: middle;\n",
       "    }\n",
       "\n",
       "    .dataframe tbody tr th {\n",
       "        vertical-align: top;\n",
       "    }\n",
       "\n",
       "    .dataframe thead th {\n",
       "        text-align: right;\n",
       "    }\n",
       "</style>\n",
       "<table border=\"1\" class=\"dataframe\">\n",
       "  <thead>\n",
       "    <tr style=\"text-align: right;\">\n",
       "      <th></th>\n",
       "      <th>address</th>\n",
       "      <th>total</th>\n",
       "      <th>black</th>\n",
       "      <th>hispanic</th>\n",
       "      <th>white</th>\n",
       "      <th>zip</th>\n",
       "      <th>%black</th>\n",
       "      <th>%hispanic</th>\n",
       "      <th>%white</th>\n",
       "    </tr>\n",
       "  </thead>\n",
       "  <tbody>\n",
       "    <tr>\n",
       "      <th>0</th>\n",
       "      <td>2819 W 21ST PL</td>\n",
       "      <td>342</td>\n",
       "      <td>33</td>\n",
       "      <td>304</td>\n",
       "      <td>2</td>\n",
       "      <td>60623</td>\n",
       "      <td>9.6</td>\n",
       "      <td>88.9</td>\n",
       "      <td>0.0</td>\n",
       "    </tr>\n",
       "    <tr>\n",
       "      <th>1</th>\n",
       "      <td>2345 S CHRISTIANA AVE</td>\n",
       "      <td>559</td>\n",
       "      <td>66</td>\n",
       "      <td>484</td>\n",
       "      <td>9</td>\n",
       "      <td>60623</td>\n",
       "      <td>11.8</td>\n",
       "      <td>86.6</td>\n",
       "      <td>0.0</td>\n",
       "    </tr>\n",
       "    <tr>\n",
       "      <th>2</th>\n",
       "      <td>3500 W DOUGLAS BLVD</td>\n",
       "      <td>216</td>\n",
       "      <td>212</td>\n",
       "      <td>4</td>\n",
       "      <td>0</td>\n",
       "      <td>60623</td>\n",
       "      <td>98.1</td>\n",
       "      <td>1.9</td>\n",
       "      <td>0.0</td>\n",
       "    </tr>\n",
       "    <tr>\n",
       "      <th>3</th>\n",
       "      <td>3711 W DOUGLAS BLVD</td>\n",
       "      <td>499</td>\n",
       "      <td>480</td>\n",
       "      <td>14</td>\n",
       "      <td>3</td>\n",
       "      <td>60623</td>\n",
       "      <td>96.2</td>\n",
       "      <td>2.8</td>\n",
       "      <td>0.0</td>\n",
       "    </tr>\n",
       "    <tr>\n",
       "      <th>4</th>\n",
       "      <td>4217 W 18TH ST</td>\n",
       "      <td>316</td>\n",
       "      <td>306</td>\n",
       "      <td>10</td>\n",
       "      <td>0</td>\n",
       "      <td>60623</td>\n",
       "      <td>96.8</td>\n",
       "      <td>3.2</td>\n",
       "      <td>0.0</td>\n",
       "    </tr>\n",
       "  </tbody>\n",
       "</table>\n",
       "</div>"
      ],
      "text/plain": [
       "                 address  total  black  hispanic  white    zip  %black  \\\n",
       "0         2819 W 21ST PL    342     33       304      2  60623     9.6   \n",
       "1  2345 S CHRISTIANA AVE    559     66       484      9  60623    11.8   \n",
       "2    3500 W DOUGLAS BLVD    216    212         4      0  60623    98.1   \n",
       "3    3711 W DOUGLAS BLVD    499    480        14      3  60623    96.2   \n",
       "4         4217 W 18TH ST    316    306        10      0  60623    96.8   \n",
       "\n",
       "   %hispanic  %white  \n",
       "0       88.9     0.0  \n",
       "1       86.6     0.0  \n",
       "2        1.9     0.0  \n",
       "3        2.8     0.0  \n",
       "4        3.2     0.0  "
      ]
     },
     "execution_count": 17,
     "metadata": {},
     "output_type": "execute_result"
    }
   ],
   "source": [
    "for i in df23.index:\n",
    "    df23.loc[i,'%black']=round(100*df23.loc[i,'black']/df23.loc[i,'total'],1)\n",
    "    df23.loc[i,'%hispanic']=round(100*df23.loc[i,'hispanic']/df23.loc[i,'total'],1)\n",
    "    df23.loc[i,'%white']=round(df23.loc[i,'white']/df23.loc[i,'total'],1)\n",
    "df23.head(5)"
   ]
  },
  {
   "cell_type": "markdown",
   "metadata": {},
   "source": [
    "<h4>ASSIGNMENT</h4>\n",
    "Make a scatterplot which shows the %black (x-axis) vs. %hispanic (y-axis) and include the OLS regression line on the plot. What does the graph tell us about grade pre K - 8 schools in Chicago zip code 60623?"
   ]
  },
  {
   "cell_type": "code",
   "execution_count": null,
   "metadata": {},
   "outputs": [],
   "source": []
  },
  {
   "cell_type": "markdown",
   "metadata": {},
   "source": [
    "<h4>Solution</h4>"
   ]
  },
  {
   "cell_type": "code",
   "execution_count": 18,
   "metadata": {},
   "outputs": [
    {
     "name": "stdout",
     "output_type": "stream",
     "text": [
      "Intercept is  [98.71284906]\n",
      "Slope is  [[-0.99515441]]\n",
      "R^2 for OLS is  0.9996943205528053\n"
     ]
    },
    {
     "data": {
      "image/png": "[encoded data removed]",
      "text/plain": [
       "<matplotlib.figure.Figure at 0x23643a94f98>"
      ]
     },
     "metadata": {
      "needs_background": "light"
     },
     "output_type": "display_data"
    }
   ],
   "source": [
    "from sklearn.linear_model import LinearRegression #sklearn is a machine learning library\n",
    "X=df23[[\"%black\"]]\n",
    "Y=df23[[\"%hispanic\"]]\n",
    "reg=LinearRegression()\n",
    "reg.fit(X,Y)\n",
    "print(\"Intercept is \", reg.intercept_)\n",
    "print(\"Slope is \", reg.coef_)\n",
    "print(\"R^2 for OLS is \", reg.score(X,Y))\n",
    "# x values on the regression line will be between 0 and 100 with a spacing of .0\n",
    "x = np.arange(0, 100 ,.01) \n",
    "# define the regression line y = mx+b here\n",
    "[[m]]=reg.coef_\n",
    "[b]=reg.intercept_\n",
    "y =  m*x  + b   \n",
    "\n",
    "fig=df23.plot(x='%black', y='%hispanic', style='o')  \n",
    "plt.title('% Black vs % Hispanic in 60623 pre-K - 8 Schools')  \n",
    "plt.xlabel('% Black')  \n",
    "plt.ylabel('% Hispanic')  \n",
    "# plot the regression line \n",
    "plt.plot(x,y, 'r') #add the color for red\n",
    "plt.legend([],[], frameon=True)\n",
    "plt.grid()\n",
    "plt.show()"
   ]
  },
  {
   "cell_type": "markdown",
   "metadata": {},
   "source": [
    "The graph show that schools are predominantly hispanic or preominantly black."
   ]
  }
 ],
 "metadata": {
  "kernelspec": {
   "display_name": "Python 3",
   "language": "python",
   "name": "python3"
  },
  "language_info": {
   "codemirror_mode": {
    "name": "ipython",
    "version": 3
   },
   "file_extension": ".py",
   "mimetype": "text/x-python",
   "name": "python",
   "nbconvert_exporter": "python",
   "pygments_lexer": "ipython3",
   "version": "3.6.4"
  }
 },
 "nbformat": 4,
 "nbformat_minor": 2
}
