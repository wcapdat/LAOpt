{
 "cells": [
  {
   "cell_type": "markdown",
   "metadata": {},
   "source": [
    "This notebook can be used to create a scatterplot of 2D data together with the OLS regression line."
   ]
  },
  {
   "cell_type": "markdown",
   "metadata": {},
   "source": [
    "1) Import libraries."
   ]
  },
  {
   "cell_type": "code",
   "execution_count": 1,
   "metadata": {},
   "outputs": [],
   "source": [
    "import numpy as np\n",
    "import pandas as pd\n",
    "import matplotlib.pyplot as plt\n",
    "from sklearn.linear_model import LinearRegression"
   ]
  },
  {
   "cell_type": "markdown",
   "metadata": {},
   "source": [
    "2) Import data, dropping rows with missing info."
   ]
  },
  {
   "cell_type": "code",
   "execution_count": 2,
   "metadata": {},
   "outputs": [
    {
     "data": {
      "text/html": [
       "<div>\n",
       "<style scoped>\n",
       "    .dataframe tbody tr th:only-of-type {\n",
       "        vertical-align: middle;\n",
       "    }\n",
       "\n",
       "    .dataframe tbody tr th {\n",
       "        vertical-align: top;\n",
       "    }\n",
       "\n",
       "    .dataframe thead th {\n",
       "        text-align: right;\n",
       "    }\n",
       "</style>\n",
       "<table border=\"1\" class=\"dataframe\">\n",
       "  <thead>\n",
       "    <tr style=\"text-align: right;\">\n",
       "      <th></th>\n",
       "      <th>School Name</th>\n",
       "      <th>Street Address</th>\n",
       "      <th>ZIP</th>\n",
       "      <th>Average Score ACT 2012</th>\n",
       "      <th>5-Year Cohort Graduation Rate 2012 - Percent</th>\n",
       "      <th>One-Year Dropout Rate 2012 - Percent</th>\n",
       "      <th>Freshman On-Track to Graduate 2012 - Percent</th>\n",
       "      <th>College Eligibility 2012 - Percent</th>\n",
       "      <th>College Enrollment 2012 - Percent</th>\n",
       "      <th>College Retention 2010 - Percent</th>\n",
       "      <th>Misconducts Resulting in Suspensions 2012 - Percent</th>\n",
       "      <th>Average Days of Suspension 2012</th>\n",
       "      <th>Student Attendance 2012 - Percent</th>\n",
       "      <th>Teacher Attendance 2012 - Percent</th>\n",
       "      <th>X Coordinate</th>\n",
       "      <th>Y Coordinate</th>\n",
       "      <th>Longitude</th>\n",
       "      <th>Latitude</th>\n",
       "      <th>Location</th>\n",
       "    </tr>\n",
       "  </thead>\n",
       "  <tbody>\n",
       "    <tr>\n",
       "      <th>0</th>\n",
       "      <td>Chicago Academy High School</td>\n",
       "      <td>3400 N Austin Ave</td>\n",
       "      <td>60634</td>\n",
       "      <td>19.3</td>\n",
       "      <td>71.0</td>\n",
       "      <td>4.0</td>\n",
       "      <td>82.2</td>\n",
       "      <td>35.2</td>\n",
       "      <td>75.8</td>\n",
       "      <td>71.0</td>\n",
       "      <td>4.5</td>\n",
       "      <td>2.6</td>\n",
       "      <td>93.6</td>\n",
       "      <td>95.6</td>\n",
       "      <td>1135740.091</td>\n",
       "      <td>1922002.941</td>\n",
       "      <td>-87.776506</td>\n",
       "      <td>41.942154</td>\n",
       "      <td>(-87.77650575, 41.94215439)</td>\n",
       "    </tr>\n",
       "    <tr>\n",
       "      <th>3</th>\n",
       "      <td>William Jones College Preparatory High School</td>\n",
       "      <td>606 S State St</td>\n",
       "      <td>60605</td>\n",
       "      <td>25.1</td>\n",
       "      <td>87.1</td>\n",
       "      <td>1.5</td>\n",
       "      <td>98.0</td>\n",
       "      <td>80.7</td>\n",
       "      <td>92.2</td>\n",
       "      <td>90.8</td>\n",
       "      <td>10.6</td>\n",
       "      <td>4.5</td>\n",
       "      <td>93.9</td>\n",
       "      <td>95.3</td>\n",
       "      <td>1176412.354</td>\n",
       "      <td>1897618.088</td>\n",
       "      <td>-87.627755</td>\n",
       "      <td>41.874419</td>\n",
       "      <td>(-87.62775497, 41.87441898)</td>\n",
       "    </tr>\n",
       "  </tbody>\n",
       "</table>\n",
       "</div>"
      ],
      "text/plain": [
       "                                     School Name     Street Address    ZIP  \\\n",
       "0                    Chicago Academy High School  3400 N Austin Ave  60634   \n",
       "3  William Jones College Preparatory High School     606 S State St  60605   \n",
       "\n",
       "   Average Score ACT 2012  5-Year Cohort Graduation Rate 2012 - Percent  \\\n",
       "0                    19.3                                          71.0   \n",
       "3                    25.1                                          87.1   \n",
       "\n",
       "   One-Year Dropout Rate 2012 - Percent  \\\n",
       "0                                   4.0   \n",
       "3                                   1.5   \n",
       "\n",
       "   Freshman On-Track to Graduate 2012 - Percent  \\\n",
       "0                                          82.2   \n",
       "3                                          98.0   \n",
       "\n",
       "   College Eligibility 2012 - Percent  College Enrollment 2012 - Percent  \\\n",
       "0                                35.2                               75.8   \n",
       "3                                80.7                               92.2   \n",
       "\n",
       "   College Retention 2010 - Percent  \\\n",
       "0                              71.0   \n",
       "3                              90.8   \n",
       "\n",
       "   Misconducts Resulting in Suspensions 2012 - Percent  \\\n",
       "0                                                4.5     \n",
       "3                                               10.6     \n",
       "\n",
       "   Average Days of Suspension 2012  Student Attendance 2012 - Percent  \\\n",
       "0                              2.6                               93.6   \n",
       "3                              4.5                               93.9   \n",
       "\n",
       "   Teacher Attendance 2012 - Percent  X Coordinate  Y Coordinate  Longitude  \\\n",
       "0                               95.6   1135740.091   1922002.941 -87.776506   \n",
       "3                               95.3   1176412.354   1897618.088 -87.627755   \n",
       "\n",
       "    Latitude                     Location  \n",
       "0  41.942154  (-87.77650575, 41.94215439)  \n",
       "3  41.874419  (-87.62775497, 41.87441898)  "
      ]
     },
     "execution_count": 2,
     "metadata": {},
     "output_type": "execute_result"
    }
   ],
   "source": [
    "df=pd.read_csv(\"ACTCollegeEligible.csv\")\n",
    "df=df.dropna()\n",
    "df.head(2)"
   ]
  },
  {
   "cell_type": "markdown",
   "metadata": {},
   "source": [
    "3) Specify the x and y coordinates of the points to be plotted."
   ]
  },
  {
   "cell_type": "code",
   "execution_count": 3,
   "metadata": {},
   "outputs": [],
   "source": [
    "X=df[[\"Average Score ACT 2012\"]]\n",
    "Y=df[[\"College Eligibility 2012 - Percent\"]]"
   ]
  },
  {
   "cell_type": "markdown",
   "metadata": {},
   "source": [
    "4) Create the OLS regression model."
   ]
  },
  {
   "cell_type": "code",
   "execution_count": 5,
   "metadata": {},
   "outputs": [
    {
     "name": "stdout",
     "output_type": "stream",
     "text": [
      "slope= [[6.09611136]]\n",
      "intercept= [-80.78259412]\n"
     ]
    }
   ],
   "source": [
    "OLSmodel = LinearRegression()\n",
    "OLSmodel.fit(X, Y)\n",
    "print(\"slope=\",OLSmodel.coef_)\n",
    "print(\"intercept=\",OLSmodel.intercept_)\n"
   ]
  },
  {
   "cell_type": "markdown",
   "metadata": {},
   "source": [
    "5) Make the scatterplot with regression line."
   ]
  },
  {
   "cell_type": "code",
   "execution_count": 8,
   "metadata": {},
   "outputs": [
    {
     "name": "stdout",
     "output_type": "stream",
     "text": [
      "Intercept is  [-80.78259412]\n",
      "Slope is  [[6.09611136]]\n",
      "R^2 for OLS is  0.9351396968249491\n"
     ]
    },
    {
     "data": {
      "image/png": "[encoded data removed]",
      "text/plain": [
       "<matplotlib.figure.Figure at 0x2824193e630>"
      ]
     },
     "metadata": {
      "needs_background": "light"
     },
     "output_type": "display_data"
    }
   ],
   "source": [
    "from sklearn.linear_model import LinearRegression #sklearn is a machine learning library\n",
    "X=df[[\"Average Score ACT 2012\"]]\n",
    "Y=df[[\"College Eligibility 2012 - Percent\"]]\n",
    "reg=LinearRegression()\n",
    "reg.fit(X,Y)\n",
    "print(\"Intercept is \", reg.intercept_)\n",
    "print(\"Slope is \", reg.coef_)\n",
    "print(\"R^2 for OLS is \", reg.score(X,Y))\n",
    "# x values on the regression line will be between 0 and 100 with a spacing of .0\n",
    "x = np.linspace(13.5, 30 ,100) \n",
    "# define the regression line y = mx+b here\n",
    "[[m]]=reg.coef_\n",
    "[b]=reg.intercept_\n",
    "y =  m*x  + b   \n",
    "\n",
    "fig=df.plot(x=\"Average Score ACT 2012\", y=\"College Eligibility 2012 - Percent\", style='o')  \n",
    "plt.xlabel(\"Average Score ACT 2012\")  \n",
    "plt.ylabel(\"College Eligibility 2012 - Percent\")  \n",
    "# plot the regression line \n",
    "plt.plot(x,y, 'k') #add the color for red\n",
    "plt.legend([],[], frameon=True)\n",
    "plt.grid()\n",
    "plt.show()"
   ]
  }
 ],
 "metadata": {
  "kernelspec": {
   "display_name": "Python 3",
   "language": "python",
   "name": "python3"
  },
  "language_info": {
   "codemirror_mode": {
    "name": "ipython",
    "version": 3
   },
   "file_extension": ".py",
   "mimetype": "text/x-python",
   "name": "python",
   "nbconvert_exporter": "python",
   "pygments_lexer": "ipython3",
   "version": "3.6.4"
  }
 },
 "nbformat": 4,
 "nbformat_minor": 2
}
