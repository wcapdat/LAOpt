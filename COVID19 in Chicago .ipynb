{
 "cells": [
  {
   "cell_type": "markdown",
   "metadata": {},
   "source": [
    "Data: Imported directly from the Chicago Data Portal"
   ]
  },
  {
   "cell_type": "code",
   "execution_count": 1,
   "metadata": {},
   "outputs": [],
   "source": [
    "import pandas as pd\n",
    "import numpy as np\n",
    "import matplotlib as mpl\n",
    "import matplotlib.pyplot as plt\n",
    "import math\n",
    "from numpy.linalg import eig\n",
    "import seaborn as sns\n",
    "from sklearn.preprocessing import StandardScaler\n",
    "from sklearn.decomposition import PCA"
   ]
  },
  {
   "cell_type": "markdown",
   "metadata": {},
   "source": [
    "<h3> STEP 1</h3>\n",
    "Let's read in up to 100,000 rows of COVID data for Chicago from the Chicago Data Portal.\n",
    "We create a list called chipzip of the Chicago zip codes."
   ]
  },
  {
   "cell_type": "code",
   "execution_count": 2,
   "metadata": {},
   "outputs": [
    {
     "data": {
      "text/html": [
       "<div>\n",
       "<style scoped>\n",
       "    .dataframe tbody tr th:only-of-type {\n",
       "        vertical-align: middle;\n",
       "    }\n",
       "\n",
       "    .dataframe tbody tr th {\n",
       "        vertical-align: top;\n",
       "    }\n",
       "\n",
       "    .dataframe thead th {\n",
       "        text-align: right;\n",
       "    }\n",
       "</style>\n",
       "<table border=\"1\" class=\"dataframe\">\n",
       "  <thead>\n",
       "    <tr style=\"text-align: right;\">\n",
       "      <th></th>\n",
       "      <th>:@computed_region_43wa_7qmu</th>\n",
       "      <th>:@computed_region_6mkv_f3dw</th>\n",
       "      <th>:@computed_region_bdys_3d7i</th>\n",
       "      <th>:@computed_region_rpca_8um6</th>\n",
       "      <th>:@computed_region_vrxf_vc4k</th>\n",
       "      <th>case_rate_cumulative</th>\n",
       "      <th>case_rate_weekly</th>\n",
       "      <th>cases_cumulative</th>\n",
       "      <th>cases_weekly</th>\n",
       "      <th>death_rate_cumulative</th>\n",
       "      <th>...</th>\n",
       "      <th>row_id</th>\n",
       "      <th>test_rate_cumulative</th>\n",
       "      <th>test_rate_weekly</th>\n",
       "      <th>tests_cumulative</th>\n",
       "      <th>tests_weekly</th>\n",
       "      <th>week_end</th>\n",
       "      <th>week_number</th>\n",
       "      <th>week_start</th>\n",
       "      <th>zip_code</th>\n",
       "      <th>zip_code_location</th>\n",
       "    </tr>\n",
       "  </thead>\n",
       "  <tbody>\n",
       "    <tr>\n",
       "      <th>0</th>\n",
       "      <td>36.0</td>\n",
       "      <td>14311.0</td>\n",
       "      <td>367.0</td>\n",
       "      <td>34.0</td>\n",
       "      <td>38.0</td>\n",
       "      <td>NaN</td>\n",
       "      <td>NaN</td>\n",
       "      <td>NaN</td>\n",
       "      <td>NaN</td>\n",
       "      <td>0.0</td>\n",
       "      <td>...</td>\n",
       "      <td>60603-2020-10</td>\n",
       "      <td>0.0</td>\n",
       "      <td>0.0</td>\n",
       "      <td>0</td>\n",
       "      <td>0.0</td>\n",
       "      <td>2020-03-07T00:00:00.000</td>\n",
       "      <td>10</td>\n",
       "      <td>2020-03-01T00:00:00.000</td>\n",
       "      <td>60603</td>\n",
       "      <td>{'type': 'Point', 'coordinates': [-87.625473, ...</td>\n",
       "    </tr>\n",
       "    <tr>\n",
       "      <th>1</th>\n",
       "      <td>36.0</td>\n",
       "      <td>14311.0</td>\n",
       "      <td>367.0</td>\n",
       "      <td>34.0</td>\n",
       "      <td>38.0</td>\n",
       "      <td>NaN</td>\n",
       "      <td>NaN</td>\n",
       "      <td>NaN</td>\n",
       "      <td>NaN</td>\n",
       "      <td>0.0</td>\n",
       "      <td>...</td>\n",
       "      <td>60603-2020-11</td>\n",
       "      <td>0.0</td>\n",
       "      <td>0.0</td>\n",
       "      <td>0</td>\n",
       "      <td>0.0</td>\n",
       "      <td>2020-03-14T00:00:00.000</td>\n",
       "      <td>11</td>\n",
       "      <td>2020-03-08T00:00:00.000</td>\n",
       "      <td>60603</td>\n",
       "      <td>{'type': 'Point', 'coordinates': [-87.625473, ...</td>\n",
       "    </tr>\n",
       "  </tbody>\n",
       "</table>\n",
       "<p>2 rows × 26 columns</p>\n",
       "</div>"
      ],
      "text/plain": [
       "   :@computed_region_43wa_7qmu  :@computed_region_6mkv_f3dw  \\\n",
       "0                         36.0                      14311.0   \n",
       "1                         36.0                      14311.0   \n",
       "\n",
       "   :@computed_region_bdys_3d7i  :@computed_region_rpca_8um6  \\\n",
       "0                        367.0                         34.0   \n",
       "1                        367.0                         34.0   \n",
       "\n",
       "   :@computed_region_vrxf_vc4k  case_rate_cumulative  case_rate_weekly  \\\n",
       "0                         38.0                   NaN               NaN   \n",
       "1                         38.0                   NaN               NaN   \n",
       "\n",
       "   cases_cumulative  cases_weekly  death_rate_cumulative  \\\n",
       "0               NaN           NaN                    0.0   \n",
       "1               NaN           NaN                    0.0   \n",
       "\n",
       "                         ...                                 row_id  \\\n",
       "0                        ...                          60603-2020-10   \n",
       "1                        ...                          60603-2020-11   \n",
       "\n",
       "   test_rate_cumulative  test_rate_weekly  tests_cumulative  tests_weekly  \\\n",
       "0                   0.0               0.0                 0           0.0   \n",
       "1                   0.0               0.0                 0           0.0   \n",
       "\n",
       "                  week_end week_number               week_start  zip_code  \\\n",
       "0  2020-03-07T00:00:00.000          10  2020-03-01T00:00:00.000     60603   \n",
       "1  2020-03-14T00:00:00.000          11  2020-03-08T00:00:00.000     60603   \n",
       "\n",
       "                                   zip_code_location  \n",
       "0  {'type': 'Point', 'coordinates': [-87.625473, ...  \n",
       "1  {'type': 'Point', 'coordinates': [-87.625473, ...  \n",
       "\n",
       "[2 rows x 26 columns]"
      ]
     },
     "execution_count": 2,
     "metadata": {},
     "output_type": "execute_result"
    }
   ],
   "source": [
    "import pandas as pd\n",
    "import numpy as np\n",
    "rawCOVID = pd.read_json('https://data.cityofchicago.org/resource/yhhz-zm2v.json?$limit=100000') #Import data directly from data portal\n",
    "rawCOVID.head(2)"
   ]
  },
  {
   "cell_type": "markdown",
   "metadata": {},
   "source": [
    "We'll list the 26 column names"
   ]
  },
  {
   "cell_type": "code",
   "execution_count": 3,
   "metadata": {},
   "outputs": [
    {
     "data": {
      "text/plain": [
       "[':@computed_region_43wa_7qmu',\n",
       " ':@computed_region_6mkv_f3dw',\n",
       " ':@computed_region_bdys_3d7i',\n",
       " ':@computed_region_rpca_8um6',\n",
       " ':@computed_region_vrxf_vc4k',\n",
       " 'case_rate_cumulative',\n",
       " 'case_rate_weekly',\n",
       " 'cases_cumulative',\n",
       " 'cases_weekly',\n",
       " 'death_rate_cumulative',\n",
       " 'death_rate_weekly',\n",
       " 'deaths_cumulative',\n",
       " 'deaths_weekly',\n",
       " 'percent_tested_positive_cumulative',\n",
       " 'percent_tested_positive_weekly',\n",
       " 'population',\n",
       " 'row_id',\n",
       " 'test_rate_cumulative',\n",
       " 'test_rate_weekly',\n",
       " 'tests_cumulative',\n",
       " 'tests_weekly',\n",
       " 'week_end',\n",
       " 'week_number',\n",
       " 'week_start',\n",
       " 'zip_code',\n",
       " 'zip_code_location']"
      ]
     },
     "execution_count": 3,
     "metadata": {},
     "output_type": "execute_result"
    }
   ],
   "source": [
    "list(rawCOVID.columns)"
   ]
  },
  {
   "cell_type": "markdown",
   "metadata": {},
   "source": [
    "Let's list the zipcodes"
   ]
  },
  {
   "cell_type": "code",
   "execution_count": 4,
   "metadata": {},
   "outputs": [
    {
     "data": {
      "text/plain": [
       "60618      144\n",
       "60642      144\n",
       "60614      144\n",
       "60661      144\n",
       "60613      144\n",
       "60632      144\n",
       "60639      144\n",
       "60617      144\n",
       "60602      144\n",
       "60638      144\n",
       "60603      144\n",
       "60657      144\n",
       "60637      144\n",
       "60633      144\n",
       "60636      144\n",
       "60620      144\n",
       "60608      144\n",
       "60628      144\n",
       "60611      144\n",
       "60640      144\n",
       "60623      144\n",
       "60655      144\n",
       "60660      144\n",
       "60624      144\n",
       "60609      144\n",
       "60626      144\n",
       "60651      144\n",
       "60827      144\n",
       "60619      144\n",
       "60659      144\n",
       "60610      144\n",
       "60604      144\n",
       "60666      144\n",
       "60645      144\n",
       "60615      144\n",
       "60644      144\n",
       "60707      144\n",
       "60652      144\n",
       "60646      144\n",
       "60629      144\n",
       "Unknown    144\n",
       "60622      144\n",
       "60641      144\n",
       "60647      144\n",
       "60643      144\n",
       "60612      144\n",
       "60606      144\n",
       "60653      144\n",
       "60631      144\n",
       "60605      144\n",
       "60621      144\n",
       "60656      144\n",
       "60607      144\n",
       "60625      144\n",
       "60630      144\n",
       "60601      144\n",
       "60634      144\n",
       "60616      144\n",
       "60649      144\n",
       "60654      144\n",
       "Name: zip_code, dtype: int64"
      ]
     },
     "execution_count": 4,
     "metadata": {},
     "output_type": "execute_result"
    }
   ],
   "source": [
    "rawCOVID[\"zip_code\"].value_counts()\n"
   ]
  },
  {
   "cell_type": "code",
   "execution_count": 5,
   "metadata": {},
   "outputs": [
    {
     "data": {
      "text/plain": [
       "Index(['60601', '60602', '60603', '60604', '60605', '60606', '60607', '60608',\n",
       "       '60609', '60610', '60611', '60612', '60613', '60614', '60615', '60616',\n",
       "       '60617', '60618', '60619', '60620', '60621', '60622', '60623', '60624',\n",
       "       '60625', '60626', '60628', '60629', '60630', '60631', '60632', '60633',\n",
       "       '60634', '60636', '60637', '60638', '60639', '60640', '60641', '60642',\n",
       "       '60643', '60644', '60645', '60646', '60647', '60649', '60651', '60652',\n",
       "       '60653', '60654', '60655', '60656', '60657', '60659', '60660', '60661',\n",
       "       '60666', '60707', '60827', 'Unknown'],\n",
       "      dtype='object')"
      ]
     },
     "execution_count": 5,
     "metadata": {},
     "output_type": "execute_result"
    }
   ],
   "source": [
    "zips=rawCOVID[\"zip_code\"].value_counts()\n",
    "ziplist=zips.sort_index()\n",
    "ziplist.index"
   ]
  },
  {
   "cell_type": "markdown",
   "metadata": {},
   "source": [
    "Q1. How many zipcodes are there in Chicago?"
   ]
  },
  {
   "cell_type": "code",
   "execution_count": 6,
   "metadata": {},
   "outputs": [
    {
     "data": {
      "text/plain": [
       "59"
      ]
     },
     "execution_count": 6,
     "metadata": {},
     "output_type": "execute_result"
    }
   ],
   "source": [
    "chizip=ziplist.index.drop('Unknown')\n",
    "len(chizip)"
   ]
  },
  {
   "cell_type": "code",
   "execution_count": 7,
   "metadata": {},
   "outputs": [
    {
     "data": {
      "text/plain": [
       "'60601'"
      ]
     },
     "execution_count": 7,
     "metadata": {},
     "output_type": "execute_result"
    }
   ],
   "source": [
    "chizip[0]"
   ]
  },
  {
   "cell_type": "markdown",
   "metadata": {},
   "source": [
    "<h3> STEP TWO </h3>\n",
    "Let's streamline the data to just a few columns, drop rows with missing data,  simplify the column names, and then display the first 2 rows. We'll also flter the data for zip 60623."
   ]
  },
  {
   "cell_type": "code",
   "execution_count": 8,
   "metadata": {},
   "outputs": [
    {
     "data": {
      "text/html": [
       "<div>\n",
       "<style scoped>\n",
       "    .dataframe tbody tr th:only-of-type {\n",
       "        vertical-align: middle;\n",
       "    }\n",
       "\n",
       "    .dataframe tbody tr th {\n",
       "        vertical-align: top;\n",
       "    }\n",
       "\n",
       "    .dataframe thead th {\n",
       "        text-align: right;\n",
       "    }\n",
       "</style>\n",
       "<table border=\"1\" class=\"dataframe\">\n",
       "  <thead>\n",
       "    <tr style=\"text-align: right;\">\n",
       "      <th></th>\n",
       "      <th>deaths</th>\n",
       "      <th>population</th>\n",
       "      <th>tests</th>\n",
       "      <th>zip</th>\n",
       "    </tr>\n",
       "  </thead>\n",
       "  <tbody>\n",
       "    <tr>\n",
       "      <th>0</th>\n",
       "      <td>0</td>\n",
       "      <td>1174</td>\n",
       "      <td>0</td>\n",
       "      <td>60603</td>\n",
       "    </tr>\n",
       "    <tr>\n",
       "      <th>1</th>\n",
       "      <td>0</td>\n",
       "      <td>1174</td>\n",
       "      <td>0</td>\n",
       "      <td>60603</td>\n",
       "    </tr>\n",
       "  </tbody>\n",
       "</table>\n",
       "</div>"
      ],
      "text/plain": [
       "   deaths  population  tests    zip\n",
       "0       0        1174      0  60603\n",
       "1       0        1174      0  60603"
      ]
     },
     "execution_count": 8,
     "metadata": {},
     "output_type": "execute_result"
    }
   ],
   "source": [
    "COVID=rawCOVID[['deaths_cumulative', \"population\",  'tests_cumulative','zip_code']]\n",
    "COVID.columns=[\"deaths\",\"population\",\"tests\",\"zip\"] #simplify the column names\n",
    "COVID=COVID.dropna()\n",
    "COVID.head(2)"
   ]
  },
  {
   "cell_type": "code",
   "execution_count": 9,
   "metadata": {},
   "outputs": [
    {
     "data": {
      "text/html": [
       "<div>\n",
       "<style scoped>\n",
       "    .dataframe tbody tr th:only-of-type {\n",
       "        vertical-align: middle;\n",
       "    }\n",
       "\n",
       "    .dataframe tbody tr th {\n",
       "        vertical-align: top;\n",
       "    }\n",
       "\n",
       "    .dataframe thead th {\n",
       "        text-align: right;\n",
       "    }\n",
       "</style>\n",
       "<table border=\"1\" class=\"dataframe\">\n",
       "  <thead>\n",
       "    <tr style=\"text-align: right;\">\n",
       "      <th></th>\n",
       "      <th>deaths</th>\n",
       "      <th>population</th>\n",
       "      <th>tests</th>\n",
       "      <th>zip</th>\n",
       "    </tr>\n",
       "  </thead>\n",
       "  <tbody>\n",
       "    <tr>\n",
       "      <th>760</th>\n",
       "      <td>154</td>\n",
       "      <td>85979</td>\n",
       "      <td>16951</td>\n",
       "      <td>60623</td>\n",
       "    </tr>\n",
       "    <tr>\n",
       "      <th>768</th>\n",
       "      <td>229</td>\n",
       "      <td>85979</td>\n",
       "      <td>64444</td>\n",
       "      <td>60623</td>\n",
       "    </tr>\n",
       "  </tbody>\n",
       "</table>\n",
       "</div>"
      ],
      "text/plain": [
       "     deaths  population  tests    zip\n",
       "760     154       85979  16951  60623\n",
       "768     229       85979  64444  60623"
      ]
     },
     "execution_count": 9,
     "metadata": {},
     "output_type": "execute_result"
    }
   ],
   "source": [
    "temp=COVID[COVID[\"zip\"]=='60623']\n",
    "temp.head(2)"
   ]
  },
  {
   "cell_type": "markdown",
   "metadata": {},
   "source": [
    "Q2. How many deaths occurred in 60623 for the consective weeks shown?"
   ]
  },
  {
   "cell_type": "markdown",
   "metadata": {},
   "source": [
    "<h3>STEP THREE</h3>\n",
    "Let's create a dataframe called data which contains for each zip code: (i) the population; (ii) the test rate (number of tests per person); and (iii) the death rate (number of deaths per 100,000 people)."
   ]
  },
  {
   "cell_type": "code",
   "execution_count": 10,
   "metadata": {},
   "outputs": [
    {
     "name": "stderr",
     "output_type": "stream",
     "text": [
      "C:\\Users\\pisihara\\AppData\\Local\\Continuum\\anaconda3\\lib\\site-packages\\ipykernel_launcher.py:9: RuntimeWarning: invalid value encountered in longlong_scalars\n",
      "  if __name__ == '__main__':\n",
      "C:\\Users\\pisihara\\AppData\\Local\\Continuum\\anaconda3\\lib\\site-packages\\ipykernel_launcher.py:10: RuntimeWarning: invalid value encountered in longlong_scalars\n",
      "  # Remove the CWD from sys.path while we load stuff.\n"
     ]
    },
    {
     "data": {
      "text/html": [
       "<div>\n",
       "<style scoped>\n",
       "    .dataframe tbody tr th:only-of-type {\n",
       "        vertical-align: middle;\n",
       "    }\n",
       "\n",
       "    .dataframe tbody tr th {\n",
       "        vertical-align: top;\n",
       "    }\n",
       "\n",
       "    .dataframe thead th {\n",
       "        text-align: right;\n",
       "    }\n",
       "</style>\n",
       "<table border=\"1\" class=\"dataframe\">\n",
       "  <thead>\n",
       "    <tr style=\"text-align: right;\">\n",
       "      <th></th>\n",
       "      <th>zip</th>\n",
       "      <th>test rate</th>\n",
       "      <th>death rate</th>\n",
       "    </tr>\n",
       "  </thead>\n",
       "  <tbody>\n",
       "    <tr>\n",
       "      <th>0</th>\n",
       "      <td>60601</td>\n",
       "      <td>6.913867</td>\n",
       "      <td>0.000886</td>\n",
       "    </tr>\n",
       "    <tr>\n",
       "      <th>1</th>\n",
       "      <td>60602</td>\n",
       "      <td>9.665595</td>\n",
       "      <td>0.002412</td>\n",
       "    </tr>\n",
       "    <tr>\n",
       "      <th>2</th>\n",
       "      <td>60603</td>\n",
       "      <td>9.901193</td>\n",
       "      <td>0.000000</td>\n",
       "    </tr>\n",
       "    <tr>\n",
       "      <th>3</th>\n",
       "      <td>60604</td>\n",
       "      <td>19.681586</td>\n",
       "      <td>0.000000</td>\n",
       "    </tr>\n",
       "    <tr>\n",
       "      <th>4</th>\n",
       "      <td>60605</td>\n",
       "      <td>4.760166</td>\n",
       "      <td>0.000545</td>\n",
       "    </tr>\n",
       "  </tbody>\n",
       "</table>\n",
       "</div>"
      ],
      "text/plain": [
       "     zip  test rate  death rate\n",
       "0  60601   6.913867    0.000886\n",
       "1  60602   9.665595    0.002412\n",
       "2  60603   9.901193    0.000000\n",
       "3  60604  19.681586    0.000000\n",
       "4  60605   4.760166    0.000545"
      ]
     },
     "execution_count": 10,
     "metadata": {},
     "output_type": "execute_result"
    }
   ],
   "source": [
    "data=pd.DataFrame()\n",
    "for i in np.arange(0,59,1):\n",
    "    z=chizip[i]\n",
    "    temp = COVID[COVID[\"zip\"]==z]\n",
    "    p=temp[\"population\"].max()\n",
    "    t=temp[\"tests\"].max()\n",
    "    d=temp[\"deaths\"].max()\n",
    "    data.loc[i,\"zip\"]=z\n",
    "    data.loc[i,\"test rate\"]=t/p  #test rate = number of tests per person\n",
    "    data.loc[i,\"death rate\"]=d/p #death rate = number of deaths per person\n",
    "data=data[data[\"zip\"]!='60666'] #removes a zip with missing info\n",
    "data=data.reset_index(drop=True) #renumbers the index\n",
    "data.head()"
   ]
  },
  {
   "cell_type": "markdown",
   "metadata": {},
   "source": [
    "Q3. How is it possible for the death rate to be more than 100?  for the death rate to be equal to 0?"
   ]
  },
  {
   "cell_type": "markdown",
   "metadata": {},
   "source": [
    "<h3> STEP THREE</h3>\n",
    "Let's make a graph which shows the test rate and death rate by zip code. "
   ]
  },
  {
   "cell_type": "code",
   "execution_count": 11,
   "metadata": {},
   "outputs": [
    {
     "data": {
      "image/png": "[encoded data removed]",
      "text/plain": [
       "<matplotlib.figure.Figure at 0x2945385f940>"
      ]
     },
     "metadata": {
      "needs_background": "light"
     },
     "output_type": "display_data"
    }
   ],
   "source": [
    "fig=plt.figure(figsize=(12,12))\n",
    "plt.ylim(-2.5,2.5)\n",
    "plt.xlim(-2.5,2.5)\n",
    "xm=np.mean(data[\"test rate\"])\n",
    "xs=np.std(data[\"test rate\"])\n",
    "ym=np.mean(data[\"death rate\"])\n",
    "ys=np.std(data[\"death rate\"])\n",
    "#JOL = plt.imread(\"JOL.jpg\")\n",
    "#im = plt.imshow(JOL)\n",
    "#plt.scatter(data[\"test rate\"],data[\"death rate\"],color='darkorange',s=200,alpha=.95)  #put markers \n",
    "for i in np.arange(0,58):\n",
    "        z=data.loc[i,\"zip\"]\n",
    "        plt.text((data.loc[i,\"test rate\"]-xm)/xs,(data.loc[i,\"death rate\"]-ym)/ys,z,size=8,color='black',ha='center',va='center')\n",
    "        data.loc[i,\"std test rate\"]=(data.loc[i,\"test rate\"]-xm)/xs\n",
    "        data.loc[i,\"std death rate\"]=(data.loc[i,\"death rate\"]-ym)/ys\n",
    "plt.xlabel(\"standardized tests per person\",size=30)\n",
    "plt.ylabel(\"standardized deaths per 100,000 people\",size=30)\n",
    "plt.xticks(fontsize=30)\n",
    "plt.yticks(fontsize=30)\n",
    "plt.savefig(\"chistandardcovid.png\")"
   ]
  },
  {
   "cell_type": "code",
   "execution_count": 12,
   "metadata": {},
   "outputs": [
    {
     "data": {
      "text/html": [
       "<div>\n",
       "<style scoped>\n",
       "    .dataframe tbody tr th:only-of-type {\n",
       "        vertical-align: middle;\n",
       "    }\n",
       "\n",
       "    .dataframe tbody tr th {\n",
       "        vertical-align: top;\n",
       "    }\n",
       "\n",
       "    .dataframe thead th {\n",
       "        text-align: right;\n",
       "    }\n",
       "</style>\n",
       "<table border=\"1\" class=\"dataframe\">\n",
       "  <thead>\n",
       "    <tr style=\"text-align: right;\">\n",
       "      <th></th>\n",
       "      <th>zip</th>\n",
       "      <th>test rate</th>\n",
       "      <th>death rate</th>\n",
       "      <th>std test rate</th>\n",
       "      <th>std death rate</th>\n",
       "    </tr>\n",
       "  </thead>\n",
       "  <tbody>\n",
       "    <tr>\n",
       "      <th>0</th>\n",
       "      <td>60601</td>\n",
       "      <td>6.913867</td>\n",
       "      <td>0.000886</td>\n",
       "      <td>0.580469</td>\n",
       "      <td>-1.311419</td>\n",
       "    </tr>\n",
       "    <tr>\n",
       "      <th>1</th>\n",
       "      <td>60602</td>\n",
       "      <td>9.665595</td>\n",
       "      <td>0.002412</td>\n",
       "      <td>1.676577</td>\n",
       "      <td>-0.149852</td>\n",
       "    </tr>\n",
       "    <tr>\n",
       "      <th>2</th>\n",
       "      <td>60603</td>\n",
       "      <td>9.901193</td>\n",
       "      <td>0.000000</td>\n",
       "      <td>1.770423</td>\n",
       "      <td>-1.985848</td>\n",
       "    </tr>\n",
       "    <tr>\n",
       "      <th>3</th>\n",
       "      <td>60604</td>\n",
       "      <td>19.681586</td>\n",
       "      <td>0.000000</td>\n",
       "      <td>5.666289</td>\n",
       "      <td>-1.985848</td>\n",
       "    </tr>\n",
       "    <tr>\n",
       "      <th>4</th>\n",
       "      <td>60605</td>\n",
       "      <td>4.760166</td>\n",
       "      <td>0.000545</td>\n",
       "      <td>-0.277424</td>\n",
       "      <td>-1.570866</td>\n",
       "    </tr>\n",
       "  </tbody>\n",
       "</table>\n",
       "</div>"
      ],
      "text/plain": [
       "     zip  test rate  death rate  std test rate  std death rate\n",
       "0  60601   6.913867    0.000886       0.580469       -1.311419\n",
       "1  60602   9.665595    0.002412       1.676577       -0.149852\n",
       "2  60603   9.901193    0.000000       1.770423       -1.985848\n",
       "3  60604  19.681586    0.000000       5.666289       -1.985848\n",
       "4  60605   4.760166    0.000545      -0.277424       -1.570866"
      ]
     },
     "execution_count": 12,
     "metadata": {},
     "output_type": "execute_result"
    }
   ],
   "source": [
    "data.head()"
   ]
  },
  {
   "cell_type": "code",
   "execution_count": 13,
   "metadata": {},
   "outputs": [
    {
     "name": "stdout",
     "output_type": "stream",
     "text": [
      "variance test rate 1.0\n",
      "variance death rate 0.9999999999999991\n"
     ]
    }
   ],
   "source": [
    "print(\"variance test rate\",np.std(data[\"std test rate\"])**2)\n",
    "print(\"variance death rate\",np.std(data[\"std death rate\"])**2)"
   ]
  },
  {
   "cell_type": "code",
   "execution_count": 14,
   "metadata": {},
   "outputs": [
    {
     "name": "stdout",
     "output_type": "stream",
     "text": [
      "variance test rate 0.11583206544615858\n",
      "variance death rate 0.8931531613437289\n"
     ]
    }
   ],
   "source": [
    "data1=data[data[\"zip\"]!='60707']\n",
    "data1=data1[data1[\"zip\"]!='60827']\n",
    "data1=data1[data1[\"zip\"]!='60606']\n",
    "data1=data1[data1[\"zip\"]!='60602']\n",
    "data1=data1[data1[\"zip\"]!='60603']\n",
    "data1=data1[data1[\"zip\"]!='60604']\n",
    "print(\"variance test rate\",np.std(data1[\"std test rate\"])**2)\n",
    "print(\"variance death rate\",np.std(data1[\"std death rate\"])**2)"
   ]
  },
  {
   "cell_type": "code",
   "execution_count": 15,
   "metadata": {},
   "outputs": [
    {
     "data": {
      "text/html": [
       "<div>\n",
       "<style scoped>\n",
       "    .dataframe tbody tr th:only-of-type {\n",
       "        vertical-align: middle;\n",
       "    }\n",
       "\n",
       "    .dataframe tbody tr th {\n",
       "        vertical-align: top;\n",
       "    }\n",
       "\n",
       "    .dataframe thead th {\n",
       "        text-align: right;\n",
       "    }\n",
       "</style>\n",
       "<table border=\"1\" class=\"dataframe\">\n",
       "  <thead>\n",
       "    <tr style=\"text-align: right;\">\n",
       "      <th></th>\n",
       "      <th>zip</th>\n",
       "      <th>test rate</th>\n",
       "      <th>death rate</th>\n",
       "      <th>std test rate</th>\n",
       "      <th>std death rate</th>\n",
       "    </tr>\n",
       "  </thead>\n",
       "  <tbody>\n",
       "    <tr>\n",
       "      <th>0</th>\n",
       "      <td>60601</td>\n",
       "      <td>6.913867</td>\n",
       "      <td>0.000886</td>\n",
       "      <td>0.580469</td>\n",
       "      <td>-1.311419</td>\n",
       "    </tr>\n",
       "    <tr>\n",
       "      <th>4</th>\n",
       "      <td>60605</td>\n",
       "      <td>4.760166</td>\n",
       "      <td>0.000545</td>\n",
       "      <td>-0.277424</td>\n",
       "      <td>-1.570866</td>\n",
       "    </tr>\n",
       "    <tr>\n",
       "      <th>6</th>\n",
       "      <td>60607</td>\n",
       "      <td>6.242878</td>\n",
       "      <td>0.000608</td>\n",
       "      <td>0.313191</td>\n",
       "      <td>-1.522738</td>\n",
       "    </tr>\n",
       "    <tr>\n",
       "      <th>7</th>\n",
       "      <td>60608</td>\n",
       "      <td>4.460362</td>\n",
       "      <td>0.002525</td>\n",
       "      <td>-0.396846</td>\n",
       "      <td>-0.063429</td>\n",
       "    </tr>\n",
       "    <tr>\n",
       "      <th>8</th>\n",
       "      <td>60609</td>\n",
       "      <td>4.846996</td>\n",
       "      <td>0.003675</td>\n",
       "      <td>-0.242836</td>\n",
       "      <td>0.812098</td>\n",
       "    </tr>\n",
       "  </tbody>\n",
       "</table>\n",
       "</div>"
      ],
      "text/plain": [
       "     zip  test rate  death rate  std test rate  std death rate\n",
       "0  60601   6.913867    0.000886       0.580469       -1.311419\n",
       "4  60605   4.760166    0.000545      -0.277424       -1.570866\n",
       "6  60607   6.242878    0.000608       0.313191       -1.522738\n",
       "7  60608   4.460362    0.002525      -0.396846       -0.063429\n",
       "8  60609   4.846996    0.003675      -0.242836        0.812098"
      ]
     },
     "execution_count": 15,
     "metadata": {},
     "output_type": "execute_result"
    }
   ],
   "source": [
    "data1.head()"
   ]
  },
  {
   "cell_type": "code",
   "execution_count": 16,
   "metadata": {},
   "outputs": [
    {
     "data": {
      "text/html": [
       "<div>\n",
       "<style scoped>\n",
       "    .dataframe tbody tr th:only-of-type {\n",
       "        vertical-align: middle;\n",
       "    }\n",
       "\n",
       "    .dataframe tbody tr th {\n",
       "        vertical-align: top;\n",
       "    }\n",
       "\n",
       "    .dataframe thead th {\n",
       "        text-align: right;\n",
       "    }\n",
       "</style>\n",
       "<table border=\"1\" class=\"dataframe\">\n",
       "  <thead>\n",
       "    <tr style=\"text-align: right;\">\n",
       "      <th></th>\n",
       "      <th>zip</th>\n",
       "      <th>test rate</th>\n",
       "      <th>death rate</th>\n",
       "      <th>std test rate</th>\n",
       "      <th>std death rate</th>\n",
       "    </tr>\n",
       "  </thead>\n",
       "  <tbody>\n",
       "    <tr>\n",
       "      <th>0</th>\n",
       "      <td>60601</td>\n",
       "      <td>6.913867</td>\n",
       "      <td>0.000886</td>\n",
       "      <td>0.580469</td>\n",
       "      <td>-1.311419</td>\n",
       "    </tr>\n",
       "    <tr>\n",
       "      <th>1</th>\n",
       "      <td>60605</td>\n",
       "      <td>4.760166</td>\n",
       "      <td>0.000545</td>\n",
       "      <td>-0.277424</td>\n",
       "      <td>-1.570866</td>\n",
       "    </tr>\n",
       "    <tr>\n",
       "      <th>2</th>\n",
       "      <td>60607</td>\n",
       "      <td>6.242878</td>\n",
       "      <td>0.000608</td>\n",
       "      <td>0.313191</td>\n",
       "      <td>-1.522738</td>\n",
       "    </tr>\n",
       "    <tr>\n",
       "      <th>3</th>\n",
       "      <td>60608</td>\n",
       "      <td>4.460362</td>\n",
       "      <td>0.002525</td>\n",
       "      <td>-0.396846</td>\n",
       "      <td>-0.063429</td>\n",
       "    </tr>\n",
       "    <tr>\n",
       "      <th>4</th>\n",
       "      <td>60609</td>\n",
       "      <td>4.846996</td>\n",
       "      <td>0.003675</td>\n",
       "      <td>-0.242836</td>\n",
       "      <td>0.812098</td>\n",
       "    </tr>\n",
       "  </tbody>\n",
       "</table>\n",
       "</div>"
      ],
      "text/plain": [
       "     zip  test rate  death rate  std test rate  std death rate\n",
       "0  60601   6.913867    0.000886       0.580469       -1.311419\n",
       "1  60605   4.760166    0.000545      -0.277424       -1.570866\n",
       "2  60607   6.242878    0.000608       0.313191       -1.522738\n",
       "3  60608   4.460362    0.002525      -0.396846       -0.063429\n",
       "4  60609   4.846996    0.003675      -0.242836        0.812098"
      ]
     },
     "execution_count": 16,
     "metadata": {},
     "output_type": "execute_result"
    }
   ],
   "source": [
    "data1=data1.reset_index(drop=True)\n",
    "data1.head()"
   ]
  },
  {
   "cell_type": "code",
   "execution_count": 17,
   "metadata": {},
   "outputs": [],
   "source": [
    "def cplot(x,y):\n",
    "    m=np.array([x,y]).transpose()\n",
    "    mt=np.array([x,y])\n",
    "    A=np.dot(mt,m)/len(x)\n",
    "    pca = PCA(n_components=1)\n",
    "    PC = pca.fit_transform(m)\n",
    "    pca = pd.DataFrame(data = PC, columns = ['Principal Component'])\n",
    "    print(\"Data Matrix X:\\n\",m)\n",
    "    print(\"Covariance Matrix A:\\n\",A)\n",
    "    print(\"Eigenvalues and Eigenvectors of A:\\n\",eig(A))\n",
    "    print(\"Principal Eigenvector= (\"+str(pca.loc[0,\"Principal Component\"])+\",\"+str(pca.loc[1,\"Principal Component\"])+\")\")\n",
    "    print(\"Variance along x-axis\",np.var(x))\n",
    "    print(\"Variance along y-axis\",np.var(y))\n",
    "    s=0\n",
    "    for i in np.arange(0,len(x),1):\n",
    "        s=s+(x[i]*pca.loc[0,\"Principal Component\"]+y[i]*pca.loc[1,\"Principal Component\"])**2\n",
    "    print(\"Variance along principal component\",s/len(x))\n",
    "    print(\"Scatterplot:\")\n",
    "    fig=plt.figure()\n",
    "    plt.gca().set_aspect('equal', adjustable='box')\n",
    "    plt.scatter(x,y,color='k',s=20)\n",
    "    a=pca.loc[0,\"Principal Component\"]\n",
    "    b=pca.loc[1,\"Principal Component\"]\n",
    "    for i in np.arange(0,100,1):\n",
    "        x1=x.min()+i*(x.max()-x.min())/100\n",
    "        plt.text(x1, b*x1/a,'.')\n",
    "    plt.xlabel(\"x\",size=20)\n",
    "    plt.ylabel(\"y\",size=20)\n",
    "    plt.xticks(fontsize=10)\n",
    "    plt.yticks(fontsize=10)\n",
    "    plt.savefig(\"cov.png\") "
   ]
  },
  {
   "cell_type": "code",
   "execution_count": 18,
   "metadata": {},
   "outputs": [
    {
     "name": "stdout",
     "output_type": "stream",
     "text": [
      "Data Matrix X:\n",
      " [[ 5.80469249e-01 -1.31141910e+00]\n",
      " [-2.77423769e-01 -1.57086556e+00]\n",
      " [ 3.13191268e-01 -1.52273825e+00]\n",
      " [-3.96845710e-01 -6.34286265e-02]\n",
      " [-2.42836412e-01  8.12098062e-01]\n",
      " [-5.87110812e-02 -9.12705552e-01]\n",
      " [-2.03694383e-01 -1.32843908e+00]\n",
      " [ 4.80178149e-01  3.88372876e-01]\n",
      " [-1.11074404e-01 -9.98355537e-01]\n",
      " [-4.77335699e-02 -7.26010466e-01]\n",
      " [ 6.39462009e-02 -5.57090614e-01]\n",
      " [-3.75878566e-01 -2.88551591e-02]\n",
      " [-5.60600042e-01  3.57147969e-01]\n",
      " [-3.25799643e-01 -5.66351092e-01]\n",
      " [-1.24276815e-01  8.85063925e-01]\n",
      " [-1.86867565e-01  1.20050549e+00]\n",
      " [ 2.20780930e-02  1.86770644e+00]\n",
      " [-8.54919615e-02 -5.29330181e-01]\n",
      " [-4.44094568e-01  9.53942589e-01]\n",
      " [ 1.07230671e-03  4.56594250e-01]\n",
      " [ 7.88878458e-02  4.54453703e-01]\n",
      " [ 8.09372369e-01  1.22908207e+00]\n",
      " [-3.50717749e-01  1.61973666e+00]\n",
      " [-5.07476604e-01  3.89680012e-01]\n",
      " [-4.87961740e-01  6.03064296e-01]\n",
      " [-1.18245649e-01  1.23694171e+00]\n",
      " [-5.02923179e-01  1.88437624e-01]\n",
      " [-5.82978187e-01 -3.29633835e-01]\n",
      " [-3.57828594e-01  5.38715122e-01]\n",
      " [ 5.38602890e-02  1.93863489e+00]\n",
      " [ 1.01224857e+00 -3.65458933e-01]\n",
      " [-5.77351308e-01  4.87293207e-01]\n",
      " [-3.68182556e-01  6.29930386e-01]\n",
      " [ 1.24865820e-02  1.10897528e-01]\n",
      " [-2.40352817e-01  1.25879819e-01]\n",
      " [-4.33695321e-01 -8.17533870e-01]\n",
      " [ 2.79601468e-01  1.18952438e+00]\n",
      " [ 1.90296485e-01  1.44484242e+00]\n",
      " [-3.45212432e-02  4.86404247e-01]\n",
      " [-1.56042736e-01  6.25625331e-01]\n",
      " [-1.84333940e-01 -3.24152669e-01]\n",
      " [ 2.64344733e-02  1.68646171e+00]\n",
      " [-3.41656759e-01  2.42082809e-01]\n",
      " [-3.43692713e-01  4.41684130e-01]\n",
      " [ 9.41611050e-02  4.43004172e-01]\n",
      " [-9.18558182e-02 -1.66755083e+00]\n",
      " [-5.73392207e-01 -5.32128360e-01]\n",
      " [-6.56701545e-01  2.22574666e-01]\n",
      " [-1.54032544e-01 -1.29029480e+00]\n",
      " [-1.65604294e-01  3.68501240e-01]\n",
      " [ 1.17814539e-01 -1.54805987e-01]\n",
      " [-2.37710928e-01 -1.83244719e+00]]\n",
      "Covariance Matrix A:\n",
      " [[ 0.13279456 -0.00926857]\n",
      " [-0.00926857  0.90734754]]\n",
      "Eigenvalues and Eigenvectors of A:\n",
      " (array([0.13268367, 0.90745843]), array([[-0.99992843,  0.01196378],\n",
      "       [-0.01196378, -0.99992843]]))\n",
      "Principal Eigenvector= (1.4248007817077748,1.6911340986304007)\n",
      "Variance along x-axis 0.11583206544615857\n",
      "Variance along y-axis 0.8931531613437289\n",
      "Variance along principal component 2.819869331433537\n",
      "Scatterplot:\n"
     ]
    },
    {
     "data": {
      "image/png": "[encoded data removed]",
      "text/plain": [
       "<matplotlib.figure.Figure at 0x29454ca3b38>"
      ]
     },
     "metadata": {
      "needs_background": "light"
     },
     "output_type": "display_data"
    }
   ],
   "source": [
    "x=data1['std test rate']\n",
    "y=data1['std death rate']\n",
    "cplot(x,y)"
   ]
  }
 ],
 "metadata": {
  "kernelspec": {
   "display_name": "Python 3",
   "language": "python",
   "name": "python3"
  },
  "language_info": {
   "codemirror_mode": {
    "name": "ipython",
    "version": 3
   },
   "file_extension": ".py",
   "mimetype": "text/x-python",
   "name": "python",
   "nbconvert_exporter": "python",
   "pygments_lexer": "ipython3",
   "version": "3.6.4"
  }
 },
 "nbformat": 4,
 "nbformat_minor": 2
}
